{
  "nbformat": 4,
  "nbformat_minor": 0,
  "metadata": {
    "kernelspec": {
      "display_name": "Python 3",
      "language": "python",
      "name": "python3"
    },
    "language_info": {
      "codemirror_mode": {
        "name": "ipython",
        "version": 3
      },
      "file_extension": ".py",
      "mimetype": "text/x-python",
      "name": "python",
      "nbconvert_exporter": "python",
      "pygments_lexer": "ipython3",
      "version": "3.6.10"
    },
    "colab": {
      "name": "data_handling_examples.ipynb",
      "provenance": [],
      "include_colab_link": true
    }
  },
  "cells": [
    {
      "cell_type": "markdown",
      "metadata": {
        "id": "view-in-github",
        "colab_type": "text"
      },
      "source": [
        "<a href=\"https://colab.research.google.com/github/patbaa/demo_notebooks/blob/master/data_handling_examples.ipynb\" target=\"_parent\"><img src=\"https://colab.research.google.com/assets/colab-badge.svg\" alt=\"Open In Colab\"/></a>"
      ]
    },
    {
      "cell_type": "code",
      "metadata": {
        "id": "giNC55OGBjh1"
      },
      "source": [
        "import numpy as np\n",
        "import pandas as pd\n",
        "import seaborn as sns\n",
        "import matplotlib.pyplot as plt\n",
        "\n",
        "%matplotlib inline"
      ],
      "execution_count": null,
      "outputs": []
    },
    {
      "cell_type": "markdown",
      "metadata": {
        "id": "VYAGq70DBjh6"
      },
      "source": [
        "# How to create, save & read pandas dataframes?\n",
        "\n",
        "$ x^2 $"
      ]
    },
    {
      "cell_type": "code",
      "metadata": {
        "id": "escaDU57Bjh7"
      },
      "source": [
        "lin = np.linspace(0, 1, 30)\n",
        "R = 5\n",
        "df = pd.DataFrame({'x': R * np.sin(lin*2*np.pi),\n",
        "                   'y': R * np.cos(lin*2*np.pi),\n",
        "                   'fi': lin*2*np.pi}).round(2)\n",
        "\n",
        "\n",
        "df = df.replace(0, np.nan)\n",
        "df = df.replace(3.14, np.nan)\n",
        "\n",
        "df.head()"
      ],
      "execution_count": null,
      "outputs": []
    },
    {
      "cell_type": "code",
      "metadata": {
        "id": "zXRF0XqpBjh8"
      },
      "source": [
        "df.to_csv('dummy.csv', index=False)\n",
        "df2 = pd.read_csv('dummy.csv')\n",
        "df2.head()"
      ],
      "execution_count": null,
      "outputs": []
    },
    {
      "cell_type": "markdown",
      "metadata": {
        "id": "EYknUZn3Bjh8"
      },
      "source": [
        "# Missing data?\n",
        "\n",
        "Often missing data is marked as -999 or some ad-hoc value that the person who made the data came up with!"
      ]
    },
    {
      "cell_type": "code",
      "metadata": {
        "id": "jMso4k2iBjh9"
      },
      "source": [
        "df.isna()"
      ],
      "execution_count": null,
      "outputs": []
    },
    {
      "cell_type": "code",
      "metadata": {
        "id": "l_8kbyCPBjh9"
      },
      "source": [
        "df.isna().sum()"
      ],
      "execution_count": null,
      "outputs": []
    },
    {
      "cell_type": "code",
      "metadata": {
        "id": "VQm0JNs6Bjh9"
      },
      "source": [
        "plt.imshow(df.isna())"
      ],
      "execution_count": null,
      "outputs": []
    },
    {
      "cell_type": "code",
      "metadata": {
        "id": "IFfLheLUBjh-"
      },
      "source": [
        "plt.figure(figsize=(25, 6))\n",
        "plt.imshow(df.isna().T)"
      ],
      "execution_count": null,
      "outputs": []
    },
    {
      "cell_type": "code",
      "metadata": {
        "id": "K6vUBRVIBjh-"
      },
      "source": [
        "df.mean()"
      ],
      "execution_count": null,
      "outputs": []
    },
    {
      "cell_type": "markdown",
      "metadata": {
        "id": "0Q_-g7nNBjh-"
      },
      "source": [
        "### What to do with missing data?\n",
        "\n",
        "You need to explore the data first!\n",
        " - if a few entries randomly missing $\\to$ usually imputing with the average\n",
        " - if almost everything is missing $\\to$ often removing that features\n",
        " - if a sample has many missing values $\\to$ often remove that sample (the row)\n",
        " \n",
        "#### Sometimes help to mark which values were missing\n",
        " - create a new feature like is_numberoflegs_missing\n",
        " - put 1 if it was missing\n",
        " - put 0 otherwise\n",
        " \n",
        "Always be careful with missing values!"
      ]
    },
    {
      "cell_type": "code",
      "metadata": {
        "id": "XTee-NKSBjh_"
      },
      "source": [
        "df = df.fillna(df.mean())"
      ],
      "execution_count": null,
      "outputs": []
    },
    {
      "cell_type": "code",
      "metadata": {
        "id": "VquVFTvpBjh_"
      },
      "source": [
        "df.describe()"
      ],
      "execution_count": null,
      "outputs": []
    },
    {
      "cell_type": "markdown",
      "metadata": {
        "id": "zjRQlxOaBjh_"
      },
      "source": [
        "# Matplotlib example plots"
      ]
    },
    {
      "cell_type": "code",
      "metadata": {
        "id": "fZ_vM6GqBjh_"
      },
      "source": [
        "plt.figure(figsize=(6, 6))\n",
        "plt.scatter(df.x, df.y)\n",
        "plt.xlabel('this is the X axis label', fontsize=20)\n",
        "plt.ylabel('this is Y', fontsize=40)\n",
        "plt.title('this is the title', fontsize=22)"
      ],
      "execution_count": null,
      "outputs": []
    },
    {
      "cell_type": "code",
      "metadata": {
        "id": "fmGEiL9SBjiA"
      },
      "source": [
        "plt.hist(df.x, bins=10)\n",
        "plt.show()"
      ],
      "execution_count": null,
      "outputs": []
    },
    {
      "cell_type": "markdown",
      "metadata": {
        "id": "EOfrxPkFBjiA"
      },
      "source": [
        "# Seaborn"
      ]
    },
    {
      "cell_type": "code",
      "metadata": {
        "id": "kCcpD93qBjiA"
      },
      "source": [
        "sns.jointplot('x', 'fi', df, kind='kde')"
      ],
      "execution_count": null,
      "outputs": []
    },
    {
      "cell_type": "code",
      "metadata": {
        "id": "OBSqdIqLBjiA"
      },
      "source": [
        "sns.scatterplot(x='y', y='fi', data=df)"
      ],
      "execution_count": null,
      "outputs": []
    },
    {
      "cell_type": "code",
      "metadata": {
        "id": "bLXMdoqGBjiB"
      },
      "source": [
        "R, 2*np.pi"
      ],
      "execution_count": null,
      "outputs": []
    },
    {
      "cell_type": "code",
      "metadata": {
        "id": "p728yBDjBjiB"
      },
      "source": [
        "sns.boxplot(data=df)"
      ],
      "execution_count": null,
      "outputs": []
    },
    {
      "cell_type": "markdown",
      "metadata": {
        "id": "wrPbR20UBjiB"
      },
      "source": [
        "# Seaborn gallery\n",
        "\n",
        "https://seaborn.pydata.org/examples/index.html"
      ]
    },
    {
      "cell_type": "markdown",
      "metadata": {
        "id": "38fDoqu-BjiB"
      },
      "source": [
        "# Materials:\n",
        "\n",
        "Fiznum1 - course in physics BSc:\n",
        "http://oroszl.web.elte.hu/fiznum1/\n",
        "\n",
        "Data Exploration and Visualisation - course in physics MSc:\n",
        "https://github.com/sdam-elte/data-exp-vis-2020"
      ]
    },
    {
      "cell_type": "markdown",
      "metadata": {
        "id": "YG57zTR_BjiB"
      },
      "source": [
        "# EDA\n",
        "\n",
        "Kaggle datasets / competitions $\\to$ notebooks $\\to$ most voted\n",
        "\n",
        "\n",
        "eg: https://www.kaggle.com/therealcyberlord/coronavirus-covid-19-visualization-prediction"
      ]
    },
    {
      "cell_type": "markdown",
      "metadata": {
        "id": "DiC4pgCaBjiC"
      },
      "source": [
        "# Machine learning in Python\n",
        "\n",
        "- sklearn $\\to$ swiss knife for ML\n",
        "- pandas $\\to$ handling tabular data\n",
        "- numpy $\\to$ for numerical calculations\n",
        "- pytorch / tensorflow/keras $\\to$ high level deep learing packages\n",
        "- PIL / cv2 $\\to$ image manipulation"
      ]
    }
  ]
}