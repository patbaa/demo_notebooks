{
  "nbformat": 4,
  "nbformat_minor": 0,
  "metadata": {
    "kernelspec": {
      "display_name": "Python 3",
      "language": "python",
      "name": "python3"
    },
    "language_info": {
      "codemirror_mode": {
        "name": "ipython",
        "version": 3
      },
      "file_extension": ".py",
      "mimetype": "text/x-python",
      "name": "python",
      "nbconvert_exporter": "python",
      "pygments_lexer": "ipython3",
      "version": "3.8.3"
    },
    "colab": {
      "name": "solution_hw_cnn_dropout.ipynb",
      "provenance": [],
      "collapsed_sections": [],
      "include_colab_link": true
    },
    "accelerator": "GPU"
  },
  "cells": [
    {
      "cell_type": "markdown",
      "metadata": {
        "id": "view-in-github",
        "colab_type": "text"
      },
      "source": [
        "<a href=\"https://colab.research.google.com/github/patbaa/demo_notebooks/blob/master/solution_hw_cnn_dropout.ipynb\" target=\"_parent\"><img src=\"https://colab.research.google.com/assets/colab-badge.svg\" alt=\"Open In Colab\"/></a>"
      ]
    },
    {
      "cell_type": "markdown",
      "metadata": {
        "id": "XeBgTeuJnd5C"
      },
      "source": [
        "\n",
        "## 1. Download the cifar100 dataset via the tensorflow/keras API\n",
        " - how many classes do we have in the dataset? how many train and test examples do we have?\n",
        " - what is the dimension of the images?\n",
        " - show 5 images from the dataset!\n",
        " - make one-hot encoding for the labels\n",
        "\n",
        " \n",
        "## 2. creating CNN architecutre\n",
        " - create a convolutional neural network\n",
        " - the network should have the following layers:\n",
        "   - input (32, 32, 3)\n",
        "   - conv2D, 16 kernels, kernel size = 3, valid padding, relu actvation\n",
        "   - conv2D, 16 kernels, kernel size = 3, valid padding, relu actvation\n",
        "   - maxpooling kernel size = 2*2\n",
        "   - conv2D, 32 kernels, kernel size = 3, valid padding, relu actvation\n",
        "   - conv2D, 32 kernels, kernel size = 3, valid padding, relu actvation\n",
        "   - maxpooling kernel size = 2*2\n",
        "   - flatten\n",
        "   - dense, 100 neurons, softmax activation\n",
        " - how many parameters do we have for each layer?\n",
        " \n",
        "## 3. training the CNN\n",
        " - use Adam optimizer with default parameters\n",
        " - use categorical crossentropy as loss function\n",
        " - compile the model\n",
        " - print out a summary of the model\n",
        " - train the CNN on the training data for 5 epochs with batch size of 32\n",
        " - use the test data as validation data\n",
        " \n",
        "## 4. Evaluate performance\n",
        " - plot the training and the validation loss on the same plot!\n",
        " - plot the training and the validation accuracy on the same plot!\n",
        " - do we overfit?\n",
        "\n",
        "## 5. Train an other CNN\n",
        " - as we can see the previous archutecture is not the best...\n",
        " - come up with an architecture that can achieve more than 50% accuracy on the test set.\n",
        " - print out the summary for this model!\n",
        " - plot the loss and accuracy curves for this model too!"
      ]
    },
    {
      "cell_type": "markdown",
      "metadata": {
        "id": "E8U98-7znd5E"
      },
      "source": [
        "## 1. Download the cifar100 dataset via the keras API\n",
        " - how many classes do we have in the dataset? how many train and test examples do we have?\n",
        " - what is the dimension of the images?\n",
        " - show 5 images from the dataset!\n",
        " - make one-hot encodig for the labels"
      ]
    },
    {
      "cell_type": "code",
      "metadata": {
        "id": "Ut9YtpZ3nd5E"
      },
      "source": [
        "import pandas as pd\n",
        "import matplotlib.pyplot as plt\n",
        "from tensorflow.keras.datasets import cifar100\n",
        "\n",
        "\n",
        "%matplotlib inline"
      ],
      "execution_count": 1,
      "outputs": []
    },
    {
      "cell_type": "code",
      "metadata": {
        "id": "yL8PNPaJnd5J",
        "outputId": "0d405fc9-be6a-4ffe-f137-1fb5b1001e48",
        "colab": {
          "base_uri": "https://localhost:8080/",
          "height": 50
        }
      },
      "source": [
        "(x_train, y_train), (x_test, y_test) = cifar100.load_data(label_mode='fine')"
      ],
      "execution_count": 2,
      "outputs": [
        {
          "output_type": "stream",
          "text": [
            "Downloading data from https://www.cs.toronto.edu/~kriz/cifar-100-python.tar.gz\n",
            "169009152/169001437 [==============================] - 6s 0us/step\n"
          ],
          "name": "stdout"
        }
      ]
    },
    {
      "cell_type": "code",
      "metadata": {
        "id": "Se7HNh3knd5N",
        "outputId": "bf8b1809-0db0-4d19-fc61-8bcc8464ef13",
        "colab": {
          "base_uri": "https://localhost:8080/",
          "height": 34
        }
      },
      "source": [
        "x_train.shape\n",
        "\n",
        "# we have 50k images, each is 32*32pixels with 3 color channels"
      ],
      "execution_count": 3,
      "outputs": [
        {
          "output_type": "execute_result",
          "data": {
            "text/plain": [
              "(50000, 32, 32, 3)"
            ]
          },
          "metadata": {
            "tags": []
          },
          "execution_count": 3
        }
      ]
    },
    {
      "cell_type": "code",
      "metadata": {
        "id": "zjsHEbAend5S",
        "outputId": "5ad0a087-0ff6-45fd-e88c-e2d420ce2a14",
        "colab": {
          "base_uri": "https://localhost:8080/",
          "height": 34
        }
      },
      "source": [
        "y_train.shape"
      ],
      "execution_count": 4,
      "outputs": [
        {
          "output_type": "execute_result",
          "data": {
            "text/plain": [
              "(50000, 1)"
            ]
          },
          "metadata": {
            "tags": []
          },
          "execution_count": 4
        }
      ]
    },
    {
      "cell_type": "code",
      "metadata": {
        "id": "5n2Zg9AYnd5W",
        "outputId": "f012e9ff-fc9e-40a4-b1ba-2f0cb46ec51c",
        "colab": {
          "base_uri": "https://localhost:8080/",
          "height": 34
        }
      },
      "source": [
        "len(pd.unique(y_train.reshape(y_train.shape[0])))\n",
        "# we have 100 classes"
      ],
      "execution_count": 5,
      "outputs": [
        {
          "output_type": "execute_result",
          "data": {
            "text/plain": [
              "100"
            ]
          },
          "metadata": {
            "tags": []
          },
          "execution_count": 5
        }
      ]
    },
    {
      "cell_type": "code",
      "metadata": {
        "id": "yyT7yWg_nd5a",
        "outputId": "bbd5d757-98c7-44f0-b3a3-593be4ba22f0",
        "colab": {
          "base_uri": "https://localhost:8080/",
          "height": 576
        }
      },
      "source": [
        "plt.rcParams['figure.figsize'] = (1, 1)\n",
        "for i in range(5):\n",
        "    plt.imshow(x_train[i])\n",
        "    plt.title(y_train[i])\n",
        "    plt.show()"
      ],
      "execution_count": 6,
      "outputs": [
        {
          "output_type": "stream",
          "text": [
            "/usr/local/lib/python3.6/dist-packages/matplotlib/text.py:1165: FutureWarning: elementwise comparison failed; returning scalar instead, but in the future will perform elementwise comparison\n",
            "  if s != self._text:\n"
          ],
          "name": "stderr"
        },
        {
          "output_type": "display_data",
          "data": {
            "image/png": "[encoded data removed]",
            "text/plain": [
              "<Figure size 72x72 with 1 Axes>"
            ]
          },
          "metadata": {
            "tags": [],
            "needs_background": "light"
          }
        },
        {
          "output_type": "display_data",
          "data": {
            "image/png": "[encoded data removed]",
            "text/plain": [
              "<Figure size 72x72 with 1 Axes>"
            ]
          },
          "metadata": {
            "tags": [],
            "needs_background": "light"
          }
        },
        {
          "output_type": "display_data",
          "data": {
            "image/png": "[encoded data removed]",
            "text/plain": [
              "<Figure size 72x72 with 1 Axes>"
            ]
          },
          "metadata": {
            "tags": [],
            "needs_background": "light"
          }
        },
        {
          "output_type": "display_data",
          "data": {
            "image/png": "[encoded data removed]",
            "text/plain": [
              "<Figure size 72x72 with 1 Axes>"
            ]
          },
          "metadata": {
            "tags": [],
            "needs_background": "light"
          }
        },
        {
          "output_type": "display_data",
          "data": {
            "image/png": "[encoded data removed]",
            "text/plain": [
              "<Figure size 72x72 with 1 Axes>"
            ]
          },
          "metadata": {
            "tags": [],
            "needs_background": "light"
          }
        }
      ]
    },
    {
      "cell_type": "code",
      "metadata": {
        "id": "I-wpbLTend5e"
      },
      "source": [
        "from tensorflow.keras.utils import to_categorical"
      ],
      "execution_count": 7,
      "outputs": []
    },
    {
      "cell_type": "code",
      "metadata": {
        "id": "88x-hvGCnd5j"
      },
      "source": [
        "y_train_oh = to_categorical(y_train)\n",
        "y_test_oh  = to_categorical(y_test)"
      ],
      "execution_count": 8,
      "outputs": []
    },
    {
      "cell_type": "markdown",
      "metadata": {
        "id": "-PRpiPAond5m"
      },
      "source": [
        "## 2. creating CNN architecutre\n",
        " - create a convolutional neural network\n",
        " - the network should have the following layers:\n",
        "   - input (32, 32, 3)\n",
        "   - conv2D, 16 kernels, kernel size = 3, valid padding, relu actvation\n",
        "   - conv2D, 16 kernels, kernel size = 3, valid padding, relu actvation\n",
        "   - maxpooling kernel size = 2*2\n",
        "   - conv2D, 32 kernels, kernel size = 3, valid padding, relu actvation\n",
        "   - conv2D, 32 kernels, kernel size = 3, valid padding, relu actvation\n",
        "   - maxpooling kernel size = 2*2\n",
        "   - flatten\n",
        "   - dense, 100 neurons, softmax activation\n",
        " - how many parameters do we have for each layer?"
      ]
    },
    {
      "cell_type": "code",
      "metadata": {
        "id": "CzqRH5Vknd5n"
      },
      "source": [
        "from tensorflow.keras.models import Sequential\n",
        "from tensorflow.keras.layers import Dense, Conv2D, Flatten, MaxPooling2D"
      ],
      "execution_count": 9,
      "outputs": []
    },
    {
      "cell_type": "code",
      "metadata": {
        "id": "0XXsoi1gnd5q",
        "outputId": "061df7ed-654a-4a59-8f61-80269e85be95",
        "colab": {
          "base_uri": "https://localhost:8080/",
          "height": 420
        }
      },
      "source": [
        "model = Sequential()\n",
        "#add model layers\n",
        "model.add(Conv2D(16, kernel_size=3, activation='relu', input_shape=(32,32,3)))\n",
        "model.add(Conv2D(16, kernel_size=3, activation='relu'))\n",
        "model.add(MaxPooling2D())\n",
        "\n",
        "model.add(Conv2D(32, kernel_size=3, activation='relu'))\n",
        "model.add(Conv2D(32, kernel_size=3, activation='relu'))\n",
        "model.add(MaxPooling2D())\n",
        "\n",
        "model.add(Flatten())\n",
        "model.add(Dense(100, activation='softmax'))\n",
        "model.summary()"
      ],
      "execution_count": 10,
      "outputs": [
        {
          "output_type": "stream",
          "text": [
            "Model: \"sequential\"\n",
            "_________________________________________________________________\n",
            "Layer (type)                 Output Shape              Param #   \n",
            "=================================================================\n",
            "conv2d (Conv2D)              (None, 30, 30, 16)        448       \n",
            "_________________________________________________________________\n",
            "conv2d_1 (Conv2D)            (None, 28, 28, 16)        2320      \n",
            "_________________________________________________________________\n",
            "max_pooling2d (MaxPooling2D) (None, 14, 14, 16)        0         \n",
            "_________________________________________________________________\n",
            "conv2d_2 (Conv2D)            (None, 12, 12, 32)        4640      \n",
            "_________________________________________________________________\n",
            "conv2d_3 (Conv2D)            (None, 10, 10, 32)        9248      \n",
            "_________________________________________________________________\n",
            "max_pooling2d_1 (MaxPooling2 (None, 5, 5, 32)          0         \n",
            "_________________________________________________________________\n",
            "flatten (Flatten)            (None, 800)               0         \n",
            "_________________________________________________________________\n",
            "dense (Dense)                (None, 100)               80100     \n",
            "=================================================================\n",
            "Total params: 96,756\n",
            "Trainable params: 96,756\n",
            "Non-trainable params: 0\n",
            "_________________________________________________________________\n"
          ],
          "name": "stdout"
        }
      ]
    },
    {
      "cell_type": "markdown",
      "metadata": {
        "id": "s8cAgMB6nd5t"
      },
      "source": [
        "## 3. training the CNN\n",
        " - scale the training and testing data to have 0 mean and 1 variance!\n",
        " - use Adam optimizer with default parameters\n",
        " - use categorical crossentropy as loss function\n",
        " - use accuracy as metric\n",
        " - compile the model\n",
        " - print out a summary of the model\n",
        " - train the CNN on the training data for 5 epochs with batch size of 32\n",
        " - save the history of the training process!"
      ]
    },
    {
      "cell_type": "code",
      "metadata": {
        "id": "-Yn30p-Nnd5u"
      },
      "source": [
        "std = x_train.std()\n",
        "mean = x_train.mean()\n",
        "\n",
        "x_train = (x_train - mean)/std\n",
        "x_test  = (x_test - mean)/std"
      ],
      "execution_count": 11,
      "outputs": []
    },
    {
      "cell_type": "code",
      "metadata": {
        "id": "yVKQzGxrnd5x"
      },
      "source": [
        "model.compile(optimizer='adam', loss='categorical_crossentropy', metrics=['accuracy'])"
      ],
      "execution_count": 12,
      "outputs": []
    },
    {
      "cell_type": "code",
      "metadata": {
        "id": "5eUVK-U5nd50",
        "outputId": "08826744-ffa2-4703-a156-658fae206300",
        "colab": {
          "base_uri": "https://localhost:8080/",
          "height": 353
        }
      },
      "source": [
        "history = model.fit(x_train, y_train_oh, epochs=10, batch_size=32, validation_data=(x_test, y_test_oh))"
      ],
      "execution_count": 13,
      "outputs": [
        {
          "output_type": "stream",
          "text": [
            "Epoch 1/10\n",
            "1563/1563 [==============================] - 8s 5ms/step - loss: 3.6373 - accuracy: 0.1618 - val_loss: 3.2236 - val_accuracy: 0.2416\n",
            "Epoch 2/10\n",
            "1563/1563 [==============================] - 7s 5ms/step - loss: 2.9546 - accuracy: 0.2838 - val_loss: 2.8827 - val_accuracy: 0.2998\n",
            "Epoch 3/10\n",
            "1563/1563 [==============================] - 7s 5ms/step - loss: 2.6449 - accuracy: 0.3429 - val_loss: 2.7841 - val_accuracy: 0.3262\n",
            "Epoch 4/10\n",
            "1563/1563 [==============================] - 7s 5ms/step - loss: 2.4477 - accuracy: 0.3849 - val_loss: 2.6954 - val_accuracy: 0.3431\n",
            "Epoch 5/10\n",
            "1563/1563 [==============================] - 8s 5ms/step - loss: 2.2992 - accuracy: 0.4150 - val_loss: 2.6696 - val_accuracy: 0.3465\n",
            "Epoch 6/10\n",
            "1563/1563 [==============================] - 7s 5ms/step - loss: 2.1796 - accuracy: 0.4405 - val_loss: 2.6512 - val_accuracy: 0.3559\n",
            "Epoch 7/10\n",
            "1563/1563 [==============================] - 7s 5ms/step - loss: 2.0801 - accuracy: 0.4616 - val_loss: 2.6042 - val_accuracy: 0.3600\n",
            "Epoch 8/10\n",
            "1563/1563 [==============================] - 7s 5ms/step - loss: 1.9931 - accuracy: 0.4798 - val_loss: 2.6716 - val_accuracy: 0.3557\n",
            "Epoch 9/10\n",
            "1563/1563 [==============================] - 8s 5ms/step - loss: 1.9201 - accuracy: 0.4956 - val_loss: 2.6436 - val_accuracy: 0.3653\n",
            "Epoch 10/10\n",
            "1563/1563 [==============================] - 8s 5ms/step - loss: 1.8529 - accuracy: 0.5104 - val_loss: 2.7270 - val_accuracy: 0.3569\n"
          ],
          "name": "stdout"
        }
      ]
    },
    {
      "cell_type": "markdown",
      "metadata": {
        "id": "XXQJ8bYBnd54"
      },
      "source": [
        "## 4. Evaluate performance\n",
        " - plot the training and the validation loss on the same plot!\n",
        " - plot the training and the validation accuracy on the same plot!\n",
        " - do we overfit?"
      ]
    },
    {
      "cell_type": "code",
      "metadata": {
        "id": "SdKNMiiwnd55",
        "outputId": "bba67b97-5b10-4ecf-94a1-f423f0ecf478",
        "colab": {
          "base_uri": "https://localhost:8080/",
          "height": 689
        }
      },
      "source": [
        "history.history"
      ],
      "execution_count": 14,
      "outputs": [
        {
          "output_type": "execute_result",
          "data": {
            "text/plain": [
              "{'accuracy': [0.1617799997329712,\n",
              "  0.2837600111961365,\n",
              "  0.3429200053215027,\n",
              "  0.38486000895500183,\n",
              "  0.41499999165534973,\n",
              "  0.4404599964618683,\n",
              "  0.46160000562667847,\n",
              "  0.4798400104045868,\n",
              "  0.49559998512268066,\n",
              "  0.5103999972343445],\n",
              " 'loss': [3.6372928619384766,\n",
              "  2.954625368118286,\n",
              "  2.64493727684021,\n",
              "  2.4476561546325684,\n",
              "  2.2992427349090576,\n",
              "  2.179614305496216,\n",
              "  2.080098867416382,\n",
              "  1.9930634498596191,\n",
              "  1.920112133026123,\n",
              "  1.8529298305511475],\n",
              " 'val_accuracy': [0.24160000681877136,\n",
              "  0.29980000853538513,\n",
              "  0.326200008392334,\n",
              "  0.34310001134872437,\n",
              "  0.3465000092983246,\n",
              "  0.35589998960494995,\n",
              "  0.36000001430511475,\n",
              "  0.35569998621940613,\n",
              "  0.3652999997138977,\n",
              "  0.35690000653266907],\n",
              " 'val_loss': [3.223576307296753,\n",
              "  2.8827109336853027,\n",
              "  2.7840893268585205,\n",
              "  2.695448637008667,\n",
              "  2.6695659160614014,\n",
              "  2.6511781215667725,\n",
              "  2.6041853427886963,\n",
              "  2.6716043949127197,\n",
              "  2.643571615219116,\n",
              "  2.7269575595855713]}"
            ]
          },
          "metadata": {
            "tags": []
          },
          "execution_count": 14
        }
      ]
    },
    {
      "cell_type": "code",
      "metadata": {
        "id": "UVP6GVhqnd58",
        "outputId": "6f07bd75-6b20-499e-9f98-f5d5d292076e",
        "colab": {
          "base_uri": "https://localhost:8080/",
          "height": 428
        }
      },
      "source": [
        "plt.rcParams['figure.figsize'] = (10, 7)\n",
        "plt.plot(history.history['val_loss'], label='val_loss')\n",
        "plt.plot(history.history['loss'], label='loss')\n",
        "plt.legend()\n",
        "plt.show()"
      ],
      "execution_count": 15,
      "outputs": [
        {
          "output_type": "display_data",
          "data": {
            "image/png": "[encoded data removed]",
            "text/plain": [
              "<Figure size 720x504 with 1 Axes>"
            ]
          },
          "metadata": {
            "tags": [],
            "needs_background": "light"
          }
        }
      ]
    },
    {
      "cell_type": "code",
      "metadata": {
        "id": "DXLdJN_5nd6C",
        "outputId": "f75f4c69-13ca-4e39-b312-7e9e517a786a",
        "colab": {
          "base_uri": "https://localhost:8080/",
          "height": 428
        }
      },
      "source": [
        "plt.rcParams['figure.figsize'] = (10, 7)\n",
        "plt.plot(history.history['val_accuracy'], label='val_accuracy')\n",
        "plt.plot(history.history['accuracy'], label='accuracy')\n",
        "plt.legend()\n",
        "plt.show()"
      ],
      "execution_count": 16,
      "outputs": [
        {
          "output_type": "display_data",
          "data": {
            "image/png": "[encoded data removed]",
            "text/plain": [
              "<Figure size 720x504 with 1 Axes>"
            ]
          },
          "metadata": {
            "tags": [],
            "needs_background": "light"
          }
        }
      ]
    },
    {
      "cell_type": "markdown",
      "metadata": {
        "id": "2V7E0Ohond6F"
      },
      "source": [
        "## 5. Train an other CNN\n",
        " - as we can see the previous archutecture is not the best...\n",
        " - come up with an architecture that can achieve more than 40% accuracy on the test set.\n",
        " - print out the summary for this model!\n",
        " - plot the loss and accuracy curves for this model too!"
      ]
    },
    {
      "cell_type": "markdown",
      "metadata": {
        "id": "PITkkBX_nd6F"
      },
      "source": [
        "### Make it deeper and have more conv kernels!"
      ]
    },
    {
      "cell_type": "code",
      "metadata": {
        "id": "KFoY8Ge3nd6G",
        "outputId": "98ac106d-b00b-4d48-a6f8-bfc786465b30",
        "colab": {
          "base_uri": "https://localhost:8080/",
          "height": 420
        }
      },
      "source": [
        "model = Sequential()\n",
        "#add model layers\n",
        "model.add(Conv2D(128, kernel_size=3, activation='relu', input_shape=(32,32,3), padding='same'))\n",
        "model.add(Conv2D(128, kernel_size=3, activation='relu', padding='same'))\n",
        "model.add(MaxPooling2D())\n",
        "\n",
        "model.add(Conv2D(256, kernel_size=3, activation='relu', padding='same'))\n",
        "model.add(Conv2D(256, kernel_size=3, activation='relu', padding='same'))\n",
        "model.add(MaxPooling2D())\n",
        "\n",
        "model.add(Flatten())\n",
        "model.add(Dense(100, activation='softmax'))\n",
        "model.summary()"
      ],
      "execution_count": 17,
      "outputs": [
        {
          "output_type": "stream",
          "text": [
            "Model: \"sequential_1\"\n",
            "_________________________________________________________________\n",
            "Layer (type)                 Output Shape              Param #   \n",
            "=================================================================\n",
            "conv2d_4 (Conv2D)            (None, 32, 32, 128)       3584      \n",
            "_________________________________________________________________\n",
            "conv2d_5 (Conv2D)            (None, 32, 32, 128)       147584    \n",
            "_________________________________________________________________\n",
            "max_pooling2d_2 (MaxPooling2 (None, 16, 16, 128)       0         \n",
            "_________________________________________________________________\n",
            "conv2d_6 (Conv2D)            (None, 16, 16, 256)       295168    \n",
            "_________________________________________________________________\n",
            "conv2d_7 (Conv2D)            (None, 16, 16, 256)       590080    \n",
            "_________________________________________________________________\n",
            "max_pooling2d_3 (MaxPooling2 (None, 8, 8, 256)         0         \n",
            "_________________________________________________________________\n",
            "flatten_1 (Flatten)          (None, 16384)             0         \n",
            "_________________________________________________________________\n",
            "dense_1 (Dense)              (None, 100)               1638500   \n",
            "=================================================================\n",
            "Total params: 2,674,916\n",
            "Trainable params: 2,674,916\n",
            "Non-trainable params: 0\n",
            "_________________________________________________________________\n"
          ],
          "name": "stdout"
        }
      ]
    },
    {
      "cell_type": "code",
      "metadata": {
        "id": "y2W8YLkond6N",
        "outputId": "8436ce93-4f4d-4c64-df38-da87e6e077b7",
        "colab": {
          "base_uri": "https://localhost:8080/",
          "height": 390
        }
      },
      "source": [
        "model.compile(optimizer='adam', loss='categorical_crossentropy', metrics=['accuracy'])\n",
        "history = model.fit(x_train, y_train_oh, epochs=10, batch_size=256, validation_data=(x_test, y_test_oh))"
      ],
      "execution_count": 18,
      "outputs": [
        {
          "output_type": "stream",
          "text": [
            "Epoch 1/10\n",
            "  1/196 [..............................] - ETA: 0s - loss: 4.6052 - accuracy: 0.0156WARNING:tensorflow:Callbacks method `on_train_batch_end` is slow compared to the batch time (batch time: 0.0166s vs `on_train_batch_end` time: 0.0254s). Check your callbacks.\n",
            "196/196 [==============================] - 9s 48ms/step - loss: 3.5588 - accuracy: 0.1761 - val_loss: 2.9659 - val_accuracy: 0.2900\n",
            "Epoch 2/10\n",
            "196/196 [==============================] - 9s 45ms/step - loss: 2.5236 - accuracy: 0.3715 - val_loss: 2.4731 - val_accuracy: 0.3855\n",
            "Epoch 3/10\n",
            "196/196 [==============================] - 9s 45ms/step - loss: 1.8642 - accuracy: 0.5134 - val_loss: 2.2493 - val_accuracy: 0.4338\n",
            "Epoch 4/10\n",
            "196/196 [==============================] - 9s 45ms/step - loss: 1.2905 - accuracy: 0.6475 - val_loss: 2.4506 - val_accuracy: 0.4331\n",
            "Epoch 5/10\n",
            "196/196 [==============================] - 9s 45ms/step - loss: 0.7625 - accuracy: 0.7824 - val_loss: 2.8969 - val_accuracy: 0.4305\n",
            "Epoch 6/10\n",
            "196/196 [==============================] - 9s 44ms/step - loss: 0.3899 - accuracy: 0.8814 - val_loss: 3.7190 - val_accuracy: 0.4111\n",
            "Epoch 7/10\n",
            "196/196 [==============================] - 9s 45ms/step - loss: 0.2133 - accuracy: 0.9339 - val_loss: 4.3739 - val_accuracy: 0.4045\n",
            "Epoch 8/10\n",
            "196/196 [==============================] - 9s 44ms/step - loss: 0.1615 - accuracy: 0.9476 - val_loss: 5.0192 - val_accuracy: 0.4022\n",
            "Epoch 9/10\n",
            "196/196 [==============================] - 9s 45ms/step - loss: 0.1258 - accuracy: 0.9603 - val_loss: 5.6837 - val_accuracy: 0.3987\n",
            "Epoch 10/10\n",
            "196/196 [==============================] - 9s 45ms/step - loss: 0.1195 - accuracy: 0.9626 - val_loss: 5.6933 - val_accuracy: 0.4098\n"
          ],
          "name": "stdout"
        }
      ]
    },
    {
      "cell_type": "markdown",
      "metadata": {
        "id": "9SYcP1dKK6Jb"
      },
      "source": [
        "40-ish % accuracy. Let's try dropout!"
      ]
    },
    {
      "cell_type": "code",
      "metadata": {
        "id": "YW_e56O7K_m6"
      },
      "source": [
        "from tensorflow.keras.layers import Dropout"
      ],
      "execution_count": 19,
      "outputs": []
    },
    {
      "cell_type": "code",
      "metadata": {
        "id": "QZK_0ygzrVnV",
        "outputId": "74d44ee2-94ed-45c0-eee5-c184acf86965",
        "colab": {
          "base_uri": "https://localhost:8080/",
          "height": 454
        }
      },
      "source": [
        "model = Sequential()\n",
        "#add model layers\n",
        "model.add(Conv2D(128, kernel_size=3, activation='relu', input_shape=(32,32,3), padding='same'))\n",
        "model.add(Conv2D(128, kernel_size=3, activation='relu', padding='same'))\n",
        "model.add(MaxPooling2D())\n",
        "\n",
        "model.add(Conv2D(256, kernel_size=3, activation='relu', padding='same'))\n",
        "model.add(Conv2D(256, kernel_size=3, activation='relu', padding='same'))\n",
        "model.add(MaxPooling2D())\n",
        "\n",
        "model.add(Flatten())\n",
        "model.add(Dropout(0.5))\n",
        "model.add(Dense(100, activation='softmax'))\n",
        "model.summary()"
      ],
      "execution_count": 20,
      "outputs": [
        {
          "output_type": "stream",
          "text": [
            "Model: \"sequential_2\"\n",
            "_________________________________________________________________\n",
            "Layer (type)                 Output Shape              Param #   \n",
            "=================================================================\n",
            "conv2d_8 (Conv2D)            (None, 32, 32, 128)       3584      \n",
            "_________________________________________________________________\n",
            "conv2d_9 (Conv2D)            (None, 32, 32, 128)       147584    \n",
            "_________________________________________________________________\n",
            "max_pooling2d_4 (MaxPooling2 (None, 16, 16, 128)       0         \n",
            "_________________________________________________________________\n",
            "conv2d_10 (Conv2D)           (None, 16, 16, 256)       295168    \n",
            "_________________________________________________________________\n",
            "conv2d_11 (Conv2D)           (None, 16, 16, 256)       590080    \n",
            "_________________________________________________________________\n",
            "max_pooling2d_5 (MaxPooling2 (None, 8, 8, 256)         0         \n",
            "_________________________________________________________________\n",
            "flatten_2 (Flatten)          (None, 16384)             0         \n",
            "_________________________________________________________________\n",
            "dropout (Dropout)            (None, 16384)             0         \n",
            "_________________________________________________________________\n",
            "dense_2 (Dense)              (None, 100)               1638500   \n",
            "=================================================================\n",
            "Total params: 2,674,916\n",
            "Trainable params: 2,674,916\n",
            "Non-trainable params: 0\n",
            "_________________________________________________________________\n"
          ],
          "name": "stdout"
        }
      ]
    },
    {
      "cell_type": "code",
      "metadata": {
        "id": "Mx5usVXwLO-O",
        "outputId": "adcc45dc-2022-4b9f-d230-e2083c23c7c0",
        "colab": {
          "base_uri": "https://localhost:8080/",
          "height": 353
        }
      },
      "source": [
        "model.compile(optimizer='adam', loss='categorical_crossentropy', metrics=['accuracy'])\n",
        "history = model.fit(x_train, y_train_oh, epochs=10, batch_size=256, validation_data=(x_test, y_test_oh))"
      ],
      "execution_count": 21,
      "outputs": [
        {
          "output_type": "stream",
          "text": [
            "Epoch 1/10\n",
            "196/196 [==============================] - 9s 46ms/step - loss: 3.5898 - accuracy: 0.1698 - val_loss: 2.9624 - val_accuracy: 0.2849\n",
            "Epoch 2/10\n",
            "196/196 [==============================] - 9s 45ms/step - loss: 2.6823 - accuracy: 0.3367 - val_loss: 2.4486 - val_accuracy: 0.3879\n",
            "Epoch 3/10\n",
            "196/196 [==============================] - 9s 45ms/step - loss: 2.2106 - accuracy: 0.4335 - val_loss: 2.2217 - val_accuracy: 0.4266\n",
            "Epoch 4/10\n",
            "196/196 [==============================] - 9s 45ms/step - loss: 1.8560 - accuracy: 0.5092 - val_loss: 2.0740 - val_accuracy: 0.4692\n",
            "Epoch 5/10\n",
            "196/196 [==============================] - 9s 45ms/step - loss: 1.5924 - accuracy: 0.5671 - val_loss: 2.0438 - val_accuracy: 0.4787\n",
            "Epoch 6/10\n",
            "196/196 [==============================] - 9s 45ms/step - loss: 1.3625 - accuracy: 0.6219 - val_loss: 2.0139 - val_accuracy: 0.4832\n",
            "Epoch 7/10\n",
            "196/196 [==============================] - 9s 44ms/step - loss: 1.1675 - accuracy: 0.6668 - val_loss: 2.0049 - val_accuracy: 0.5004\n",
            "Epoch 8/10\n",
            "196/196 [==============================] - 9s 47ms/step - loss: 0.9970 - accuracy: 0.7072 - val_loss: 2.1217 - val_accuracy: 0.5019\n",
            "Epoch 9/10\n",
            "196/196 [==============================] - 9s 47ms/step - loss: 0.8641 - accuracy: 0.7431 - val_loss: 2.1361 - val_accuracy: 0.5025\n",
            "Epoch 10/10\n",
            "196/196 [==============================] - 9s 45ms/step - loss: 0.7449 - accuracy: 0.7748 - val_loss: 2.2590 - val_accuracy: 0.5004\n"
          ],
          "name": "stdout"
        }
      ]
    }
  ]
}