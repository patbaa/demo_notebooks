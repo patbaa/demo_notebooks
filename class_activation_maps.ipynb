{
  "nbformat": 4,
  "nbformat_minor": 0,
  "metadata": {
    "kernelspec": {
      "display_name": "Python 3",
      "language": "python",
      "name": "python3"
    },
    "language_info": {
      "codemirror_mode": {
        "name": "ipython",
        "version": 3
      },
      "file_extension": ".py",
      "mimetype": "text/x-python",
      "name": "python",
      "nbconvert_exporter": "python",
      "pygments_lexer": "ipython3",
      "version": "3.6.10"
    },
    "colab": {
      "name": "class_activation_maps.ipynb",
      "provenance": [],
      "include_colab_link": true
    }
  },
  "cells": [
    {
      "cell_type": "markdown",
      "metadata": {
        "id": "view-in-github",
        "colab_type": "text"
      },
      "source": [
        "<a href=\"https://colab.research.google.com/github/patbaa/demo_notebooks/blob/master/class_activation_maps.ipynb\" target=\"_parent\"><img src=\"https://colab.research.google.com/assets/colab-badge.svg\" alt=\"Open In Colab\"/></a>"
      ]
    },
    {
      "cell_type": "markdown",
      "metadata": {
        "id": "13B7nl4wNuHw"
      },
      "source": [
        "# Class activation maps\n",
        "\n",
        "A short implementation for the class activation maps as introduces in:\n",
        "\n",
        "Zhou et al, 2015: Learning Deep Features for Discriminative Localization  \n",
        "https://arxiv.org/pdf/1512.04150.pdf"
      ]
    },
    {
      "cell_type": "code",
      "metadata": {
        "id": "n5SrGFm7NuHy"
      },
      "source": [
        "import cv2\n",
        "import pandas as pd\n",
        "from PIL import Image\n",
        "from tensorflow.keras import Model\n",
        "from tensorflow.keras.applications import ResNet50\n",
        "from tensorflow.keras.applications.resnet import preprocess_input\n",
        "from tensorflow.keras.applications.imagenet_utils import decode_predictions\n",
        "\n",
        "%pylab inline"
      ],
      "execution_count": null,
      "outputs": []
    },
    {
      "cell_type": "code",
      "metadata": {
        "id": "GXxkcMIsNuH4"
      },
      "source": [
        "!wget -q -O classes.txt https://gist.githubusercontent.com/yrevar/942d3a0ac09ec9e5eb3a/raw/238f720ff059c1f82f368259d1ca4ffa5dd8f9f5/imagenet1000_clsidx_to_labels.txt\n",
        "    \n",
        "f = open('classes.txt')\n",
        "imagenet_classes = eval(f.read())\n",
        "f.close()\n",
        "\n",
        "imagenet_classes[0]"
      ],
      "execution_count": null,
      "outputs": []
    },
    {
      "cell_type": "code",
      "metadata": {
        "id": "KBcOPTYQNuH8"
      },
      "source": [
        "model = ResNet50()\n",
        "model.summary()"
      ],
      "execution_count": null,
      "outputs": []
    },
    {
      "cell_type": "code",
      "metadata": {
        "id": "PbHiTzHwNuIA"
      },
      "source": [
        "activation_maps = model.get_layer('conv5_block3_out').output\n",
        "class_weights   = model.get_layer('predictions').weights[0].numpy()\n",
        "\n",
        "model_vis = Model(model.input, [activation_maps, model.get_layer('predictions').output])"
      ],
      "execution_count": null,
      "outputs": []
    },
    {
      "cell_type": "code",
      "metadata": {
        "id": "CIApddglNuID"
      },
      "source": [
        "def plot_class_act_map(img, class_id):\n",
        "    # [None] is to make a match of 1 image\n",
        "    preprocessed_input = preprocess_input(np.array(img)[None])\n",
        "    maps, preds = model_vis.predict(preprocessed_input)\n",
        "    \n",
        "    # we have only 1 img in out batch\n",
        "    class_activation_maps = (maps@class_weights)[0] \n",
        "    \n",
        "    class_map = class_activation_maps[...,class_id]\n",
        "    class_map = (class_map - class_map.min())/(class_map.max() - class_map.min())\n",
        "    \n",
        "    plt.figure(figsize=(8, 8), frameon=True)\n",
        "    ext = 0, 1, 0, 1\n",
        "    plt.title(imagenet_classes[class_id], fontsize=15)\n",
        "    plt.imshow(img, extent=ext)\n",
        "    plt.imshow(class_map, interpolation='quadric', \n",
        "               cmap=plt.cm.jet, vmin=0, vmax=1, alpha=0.5, extent=ext)\n",
        "    plt.axis('off')\n",
        "    plt.show()"
      ],
      "execution_count": null,
      "outputs": []
    },
    {
      "cell_type": "code",
      "metadata": {
        "id": "W1JRYDa3NuIH"
      },
      "source": [
        "!wget -q -O img1.jpg https://kutyafan.hu/wp-content/uploads/2017/10/15-le%C3%ADrhatatlanul-aranyos-kever%C3%A9k-kutya5.jpg\n",
        "img = Image.open('img1.jpg').resize((224, 224))\n",
        "\n",
        "plt.figure(figsize=(8,8))\n",
        "plt.axis('off')\n",
        "plt.imshow(img)\n",
        "plt.show()"
      ],
      "execution_count": null,
      "outputs": []
    },
    {
      "cell_type": "code",
      "metadata": {
        "id": "lhm_Y8IxNuIL"
      },
      "source": [
        "plot_class_act_map(img, 207)"
      ],
      "execution_count": null,
      "outputs": []
    },
    {
      "cell_type": "code",
      "metadata": {
        "id": "4cg3PWqwNuIP"
      },
      "source": [
        "plot_class_act_map(img, 248)"
      ],
      "execution_count": null,
      "outputs": []
    },
    {
      "cell_type": "code",
      "metadata": {
        "id": "Sd5R4dgaNuIS"
      },
      "source": [
        "plot_class_act_map(img, 277)"
      ],
      "execution_count": null,
      "outputs": []
    },
    {
      "cell_type": "code",
      "metadata": {
        "id": "OwDJr7PjNuIW"
      },
      "source": [
        "plot_class_act_map(img, 485)"
      ],
      "execution_count": null,
      "outputs": []
    },
    {
      "cell_type": "markdown",
      "metadata": {
        "id": "v8ZZEM1iNuIa"
      },
      "source": [
        "# Another example"
      ]
    },
    {
      "cell_type": "code",
      "metadata": {
        "id": "GNZzIs5dNuIb"
      },
      "source": [
        "!wget -q -O weight.jpg https://www.mensjournal.com/wp-content/uploads/mf/_main_liftlift.jpg\n",
        "img = Image.open('weight.jpg').resize((224, 224))\n",
        "\n",
        "plt.figure(figsize=(8,8))\n",
        "plt.axis('off')\n",
        "plt.imshow(img)\n",
        "plt.show()"
      ],
      "execution_count": null,
      "outputs": []
    },
    {
      "cell_type": "code",
      "metadata": {
        "id": "xdCHbCRjNuIf"
      },
      "source": [
        "plot_class_act_map(img, 543)"
      ],
      "execution_count": null,
      "outputs": []
    },
    {
      "cell_type": "code",
      "metadata": {
        "id": "t1Awh_4bNuIi"
      },
      "source": [
        "plot_class_act_map(img, 811)"
      ],
      "execution_count": null,
      "outputs": []
    },
    {
      "cell_type": "markdown",
      "metadata": {
        "id": "Ds9AqrC4NuIm"
      },
      "source": [
        "Does not work always as expected"
      ]
    },
    {
      "cell_type": "code",
      "metadata": {
        "id": "1GlsuARGNuIm"
      },
      "source": [
        "plot_class_act_map(img, 770)"
      ],
      "execution_count": null,
      "outputs": []
    }
  ]
}