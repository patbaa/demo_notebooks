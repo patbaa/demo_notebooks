{
  "nbformat": 4,
  "nbformat_minor": 0,
  "metadata": {
    "kernelspec": {
      "display_name": "Python 3",
      "language": "python",
      "name": "python3"
    },
    "language_info": {
      "codemirror_mode": {
        "name": "ipython",
        "version": 3
      },
      "file_extension": ".py",
      "mimetype": "text/x-python",
      "name": "python",
      "nbconvert_exporter": "python",
      "pygments_lexer": "ipython3",
      "version": "3.5.5"
    },
    "colab": {
      "name": "play_word2vec.ipynb",
      "provenance": [],
      "include_colab_link": true
    }
  },
  "cells": [
    {
      "cell_type": "markdown",
      "metadata": {
        "id": "view-in-github",
        "colab_type": "text"
      },
      "source": [
        "<a href=\"https://colab.research.google.com/github/patbaa/demo_notebooks/blob/master/play_word2vec.ipynb\" target=\"_parent\"><img src=\"https://colab.research.google.com/assets/colab-badge.svg\" alt=\"Open In Colab\"/></a>"
      ]
    },
    {
      "cell_type": "markdown",
      "metadata": {
        "id": "1zgQgIewBy8j",
        "colab_type": "text"
      },
      "source": [
        "# Explore word2vec embeddings\n",
        "\n",
        "- to be able to run this notebook you need to train your model first\n",
        "- you can train your model locally, not on Google Colab"
      ]
    },
    {
      "cell_type": "code",
      "metadata": {
        "id": "iAZTLgVqBy8n",
        "colab_type": "code",
        "colab": {}
      },
      "source": [
        "import numpy as np\n",
        "from gensim.models.word2vec import Word2Vec\n",
        "\n",
        "%matplotlib inline"
      ],
      "execution_count": 0,
      "outputs": []
    },
    {
      "cell_type": "code",
      "metadata": {
        "id": "xbeelP0EBy8r",
        "colab_type": "code",
        "colab": {},
        "outputId": "19e68ec9-c017-45e7-99a9-47eee3edb9d1"
      },
      "source": [
        "%%time\n",
        "en_w2v = Word2Vec.load('en_word2vec')"
      ],
      "execution_count": 0,
      "outputs": [
        {
          "output_type": "stream",
          "text": [
            "CPU times: user 9.47 s, sys: 2.72 s, total: 12.2 s\n",
            "Wall time: 12.2 s\n"
          ],
          "name": "stdout"
        }
      ]
    },
    {
      "cell_type": "markdown",
      "metadata": {
        "id": "VYCTXjFLBy8w",
        "colab_type": "text"
      },
      "source": [
        "Get word embeddings for a few words"
      ]
    },
    {
      "cell_type": "code",
      "metadata": {
        "id": "HEqtlwfSBy8y",
        "colab_type": "code",
        "colab": {},
        "outputId": "cf2ab5de-665d-46c3-b776-79ec92419755"
      },
      "source": [
        "apple = en_w2v.wv.get_vector('apple')\n",
        "pear  = en_w2v.wv.get_vector('pear')\n",
        "dog   = en_w2v.wv.get_vector('dog')\n",
        "len(apple), len(pear), len(dog)"
      ],
      "execution_count": 0,
      "outputs": [
        {
          "output_type": "execute_result",
          "data": {
            "text/plain": [
              "(200, 200, 200)"
            ]
          },
          "metadata": {
            "tags": []
          },
          "execution_count": 3
        }
      ]
    },
    {
      "cell_type": "code",
      "metadata": {
        "id": "AxNY1fm2By82",
        "colab_type": "code",
        "colab": {},
        "outputId": "5bb82d0e-962f-4a35-eef2-88934615e854"
      },
      "source": [
        "apple"
      ],
      "execution_count": 0,
      "outputs": [
        {
          "output_type": "execute_result",
          "data": {
            "text/plain": [
              "array([ 5.03434062e-01,  2.16583014e+00,  7.37607300e-01,  1.97248554e+00,\n",
              "       -2.28733587e+00, -3.53058553e+00, -4.56870317e-01,  1.62385142e+00,\n",
              "        3.02450180e-01,  1.27949536e+00,  5.46707439e+00,  1.14164639e+00,\n",
              "       -2.08161160e-01,  7.08680272e-01, -3.67628407e+00, -8.61007929e-01,\n",
              "       -1.64131534e+00,  3.68233585e+00, -3.64759147e-01, -1.76412380e+00,\n",
              "       -3.27543354e+00, -2.21811190e-01,  1.83110189e+00,  3.46247411e+00,\n",
              "        1.15471900e+00, -3.60734224e-01,  9.19606149e-01, -2.15470600e+00,\n",
              "        6.45661473e-01,  2.06053424e+00,  1.47143602e-01,  1.57057762e+00,\n",
              "        2.38143015e+00,  1.04366207e+00, -6.41605139e-01,  1.93041682e-01,\n",
              "        9.43868279e-01, -3.98410946e-01,  1.04741946e-01, -8.30831289e-01,\n",
              "       -3.98071140e-01,  4.53355837e+00,  4.16923666e+00,  4.93524492e-01,\n",
              "       -1.70531178e+00, -7.68735826e-01, -3.99773693e+00,  1.52821586e-01,\n",
              "        2.18201828e+00,  4.03025389e+00,  7.38585889e-01, -3.51597834e+00,\n",
              "        6.88978004e+00, -3.27704453e+00,  2.36665988e+00, -1.98708260e+00,\n",
              "       -3.91086173e+00, -2.44042897e+00, -3.34155917e+00, -2.98551297e+00,\n",
              "       -2.03476119e+00, -4.49041396e-01,  4.37957239e+00,  1.72293055e+00,\n",
              "       -2.05929327e+00,  2.87407279e-01,  4.18738604e-01, -4.99315214e+00,\n",
              "       -5.55343568e-01,  1.44092584e+00, -6.24342561e-01,  6.91223860e-01,\n",
              "       -2.33049154e+00,  1.00613344e+00, -4.38035059e+00,  5.40842414e-01,\n",
              "       -5.93310058e-01, -1.28186381e+00, -1.47864115e+00, -8.56099963e-01,\n",
              "       -3.32329690e-01, -2.74840331e+00, -1.17836165e+00,  1.37446761e+00,\n",
              "        1.09157455e+00, -1.20509946e+00, -3.95807576e+00, -6.67682528e-01,\n",
              "       -3.26936936e+00, -1.56704530e-01, -3.54939967e-01,  2.04789266e-01,\n",
              "       -3.50182605e+00, -1.19123304e+00, -6.95916116e-01, -3.28214169e-01,\n",
              "       -8.15309882e-01, -8.18585992e-01,  2.56993353e-01, -9.87565160e-01,\n",
              "       -2.35878921e+00,  3.61671090e-01,  6.03494835e+00,  2.64157462e+00,\n",
              "        8.08637559e-01, -1.07707739e+00,  2.34852576e+00,  1.32075167e+00,\n",
              "       -1.25487649e+00,  2.55786121e-01, -6.24918044e-01, -3.52326691e-01,\n",
              "       -1.64241984e-01,  9.15863514e-01,  3.38015914e+00, -1.39647007e+00,\n",
              "        2.57164407e+00, -1.88757432e+00,  2.33610719e-01,  2.25282621e+00,\n",
              "        3.69064212e+00,  6.67239249e-01, -3.40333295e+00,  1.54019642e+00,\n",
              "       -1.64462721e+00, -2.47042298e+00,  4.77529973e-01, -2.62705994e+00,\n",
              "       -1.16339803e+00,  2.47803426e+00,  2.20107841e+00, -3.65717721e+00,\n",
              "        8.46882910e-02,  1.78060329e+00, -3.29120517e+00,  3.44868660e-01,\n",
              "        2.23425221e+00, -2.07281828e+00, -3.96775231e-02, -1.27160430e+00,\n",
              "       -3.28955984e+00,  3.22178864e+00,  1.30408034e-01, -1.71272576e+00,\n",
              "        1.56926095e-01, -1.78706355e-03,  9.55295980e-01,  1.68883260e-02,\n",
              "       -1.11885035e+00,  5.77019826e-02,  5.85336924e-01,  1.41934633e+00,\n",
              "        9.50065196e-01,  1.62351036e+00, -1.22828901e-01,  3.91820693e+00,\n",
              "        7.49136031e-01,  1.10748935e+00,  1.22807547e-01,  1.37406242e+00,\n",
              "        9.79005814e-01, -2.18278241e+00,  1.18608320e+00, -4.33366716e-01,\n",
              "        1.56816030e+00,  3.52113307e-01,  3.40367436e+00, -8.69842947e-01,\n",
              "        1.62881422e+00, -9.64504201e-03,  6.24217749e-01,  1.20027602e+00,\n",
              "        3.36695170e+00, -2.42955637e+00, -4.14888531e-01,  1.75301298e-01,\n",
              "        8.03402603e-01,  1.54764974e+00, -3.85217118e+00, -2.08705854e+00,\n",
              "        3.92680168e+00,  4.69633102e+00,  4.32697392e+00,  4.79667997e+00,\n",
              "       -2.95641375e+00,  1.48419321e+00, -3.54368353e+00, -1.31497085e+00,\n",
              "       -1.63443458e+00, -1.23333812e+00,  4.98646080e-01,  9.52328205e-01,\n",
              "       -1.07918307e-01, -2.60480499e+00,  2.05927849e+00,  6.56461000e-01,\n",
              "        1.57815397e+00, -2.22594523e+00,  5.67823839e+00, -2.17469645e+00],\n",
              "      dtype=float32)"
            ]
          },
          "metadata": {
            "tags": []
          },
          "execution_count": 4
        }
      ]
    },
    {
      "cell_type": "code",
      "metadata": {
        "id": "SfTnNQBtBy86",
        "colab_type": "code",
        "colab": {}
      },
      "source": [
        "def cosine_similarity(v1, v2):\n",
        "    sim = np.dot(v1, v2)/(np.linalg.norm(v1)*np.linalg.norm(v2))\n",
        "    return np.round(sim, 4)"
      ],
      "execution_count": 0,
      "outputs": []
    },
    {
      "cell_type": "code",
      "metadata": {
        "id": "fGGi3xUUBy8_",
        "colab_type": "code",
        "colab": {},
        "outputId": "30ce408c-3f39-450a-9d43-9015bf14b02b"
      },
      "source": [
        "cosine_similarity(apple, pear), cosine_similarity(apple, dog), cosine_similarity(pear, dog)"
      ],
      "execution_count": 0,
      "outputs": [
        {
          "output_type": "execute_result",
          "data": {
            "text/plain": [
              "(0.4224, 0.1457, 0.1629)"
            ]
          },
          "metadata": {
            "tags": []
          },
          "execution_count": 6
        }
      ]
    },
    {
      "cell_type": "code",
      "metadata": {
        "id": "wMmUhSS3By9E",
        "colab_type": "code",
        "colab": {},
        "outputId": "4de6bec7-19df-41e0-f438-cc7af3f70cae"
      },
      "source": [
        "print('apple-pear:', cosine_similarity(apple, pear))\n",
        "print('apple-dog:', cosine_similarity(apple, dog))\n",
        "print('pear-dog:', cosine_similarity(pear, dog))"
      ],
      "execution_count": 0,
      "outputs": [
        {
          "output_type": "stream",
          "text": [
            "apple-pear: 0.4224\n",
            "apple-dog: 0.1457\n",
            "pear-dog: 0.1629\n"
          ],
          "name": "stdout"
        }
      ]
    },
    {
      "cell_type": "code",
      "metadata": {
        "id": "3NPoMGDFBy9J",
        "colab_type": "code",
        "colab": {},
        "outputId": "3b774983-fa0d-4424-8c5d-cb856f71a396"
      },
      "source": [
        "cosine_similarity(en_w2v.wv.get_vector('king')-en_w2v.wv.get_vector('queen'), \n",
        "                  en_w2v.wv.get_vector('man')-en_w2v.wv.get_vector('woman'))"
      ],
      "execution_count": 0,
      "outputs": [
        {
          "output_type": "execute_result",
          "data": {
            "text/plain": [
              "0.4969"
            ]
          },
          "metadata": {
            "tags": []
          },
          "execution_count": 8
        }
      ]
    },
    {
      "cell_type": "markdown",
      "metadata": {
        "id": "vNObpXZjBy9N",
        "colab_type": "text"
      },
      "source": [
        "Vector operations:\n",
        "\n",
        "$$ carrots - carrot = cats - cat $$\n",
        "$$ carrots = carrot + cats - cat $$"
      ]
    },
    {
      "cell_type": "code",
      "metadata": {
        "id": "gfV1l83DBy9O",
        "colab_type": "code",
        "colab": {},
        "outputId": "4bb69c3e-deb3-455f-87fa-3e6f35ad0a38"
      },
      "source": [
        "en_w2v.wv.most_similar(positive=['cats', 'carrot'], negative=['cat'], topn=5)"
      ],
      "execution_count": 0,
      "outputs": [
        {
          "output_type": "execute_result",
          "data": {
            "text/plain": [
              "[('carrots', 0.5424485802650452),\n",
              " ('thistles', 0.5246830582618713),\n",
              " ('parsnip', 0.5204790234565735),\n",
              " ('celery', 0.5110417604446411),\n",
              " ('blueberries', 0.5081753730773926)]"
            ]
          },
          "metadata": {
            "tags": []
          },
          "execution_count": 9
        }
      ]
    },
    {
      "cell_type": "code",
      "metadata": {
        "id": "7jEOCSY9By9S",
        "colab_type": "code",
        "colab": {},
        "outputId": "2da0dc2a-0752-40b9-c607-28977b29e61c"
      },
      "source": [
        "en_w2v.wv.most_similar(positive=['cats', 'mouse'], negative=['cat'], topn=5)"
      ],
      "execution_count": 0,
      "outputs": [
        {
          "output_type": "execute_result",
          "data": {
            "text/plain": [
              "[('mice', 0.6760387420654297),\n",
              " ('rabbits', 0.5993174910545349),\n",
              " ('rats', 0.5820876955986023),\n",
              " ('hamsters', 0.5710359215736389),\n",
              " ('gerbils', 0.5586819052696228)]"
            ]
          },
          "metadata": {
            "tags": []
          },
          "execution_count": 10
        }
      ]
    },
    {
      "cell_type": "code",
      "metadata": {
        "id": "lyN5OnefBy9X",
        "colab_type": "code",
        "colab": {},
        "outputId": "a035cbf6-0b6a-4da7-9973-d8597d58d740"
      },
      "source": [
        "en_w2v.wv.most_similar('mozart', topn=5)"
      ],
      "execution_count": 0,
      "outputs": [
        {
          "output_type": "execute_result",
          "data": {
            "text/plain": [
              "[('beethoven', 0.7484350800514221),\n",
              " ('mozarts', 0.7354700565338135),\n",
              " ('haydn', 0.7320547103881836),\n",
              " ('brahms', 0.728082001209259),\n",
              " ('liszt', 0.7276102304458618)]"
            ]
          },
          "metadata": {
            "tags": []
          },
          "execution_count": 11
        }
      ]
    },
    {
      "cell_type": "markdown",
      "metadata": {
        "id": "qQsD-jkJBy9a",
        "colab_type": "text"
      },
      "source": [
        "## Plural-singular is easy... is there anything else?"
      ]
    },
    {
      "cell_type": "markdown",
      "metadata": {
        "id": "FyGM7L0JBy9c",
        "colab_type": "text"
      },
      "source": [
        "$$ X - Mozart = footballer - Messi $$\n",
        "$$ X = Mozart + footballer - Messi $$"
      ]
    },
    {
      "cell_type": "code",
      "metadata": {
        "id": "7ttBoRbHBy9d",
        "colab_type": "code",
        "colab": {},
        "outputId": "01e99f74-8ead-4dfc-d306-4663f5861451"
      },
      "source": [
        "en_w2v.wv.most_similar(positive=['footballer', 'mozart'], negative=['messi'], topn=5)"
      ],
      "execution_count": 0,
      "outputs": [
        {
          "output_type": "execute_result",
          "data": {
            "text/plain": [
              "[('operatic', 0.45616382360458374),\n",
              " ('violinist', 0.4509333670139313),\n",
              " ('cellist', 0.44413888454437256),\n",
              " ('composer', 0.4420720040798187),\n",
              " ('oboist', 0.43317335844039917)]"
            ]
          },
          "metadata": {
            "tags": []
          },
          "execution_count": 12
        }
      ]
    },
    {
      "cell_type": "code",
      "metadata": {
        "id": "5XuJ7cl_By9g",
        "colab_type": "code",
        "colab": {},
        "outputId": "bb4160d7-006d-4b0d-cfd0-3e1d893979bb"
      },
      "source": [
        "en_w2v.wv.most_similar(positive=['ballmer', 'apple'], negative=['microsoft'], topn=5)"
      ],
      "execution_count": 0,
      "outputs": [
        {
          "output_type": "execute_result",
          "data": {
            "text/plain": [
              "[('sculley', 0.6320608258247375),\n",
              " ('wozniak', 0.6043099164962769),\n",
              " ('hertzfeld', 0.585370659828186),\n",
              " ('fadell', 0.5655703544616699),\n",
              " ('elop', 0.49531126022338867)]"
            ]
          },
          "metadata": {
            "tags": []
          },
          "execution_count": 13
        }
      ]
    },
    {
      "cell_type": "markdown",
      "metadata": {
        "id": "JdqCZgHPBy9k",
        "colab_type": "text"
      },
      "source": [
        "Not Steve Jobs!"
      ]
    },
    {
      "cell_type": "code",
      "metadata": {
        "id": "DXcJDaDGBy9l",
        "colab_type": "code",
        "colab": {},
        "outputId": "f01ac422-b89e-453f-a83c-ad1eb8822954"
      },
      "source": [
        "en_w2v.wv.most_similar(positive=['sushi', 'italy'], negative=['japan'], topn=5)"
      ],
      "execution_count": 0,
      "outputs": [
        {
          "output_type": "execute_result",
          "data": {
            "text/plain": [
              "[('ravioli', 0.6762843132019043),\n",
              " ('trattoria', 0.6757627725601196),\n",
              " ('risotto', 0.6740370988845825),\n",
              " ('bruschetta', 0.6610550880432129),\n",
              " ('ristorante', 0.6580170392990112)]"
            ]
          },
          "metadata": {
            "tags": []
          },
          "execution_count": 14
        }
      ]
    },
    {
      "cell_type": "markdown",
      "metadata": {
        "id": "WNSHF1HFBy9p",
        "colab_type": "text"
      },
      "source": [
        "## Does not match"
      ]
    },
    {
      "cell_type": "code",
      "metadata": {
        "id": "b_7CyCqIBy9q",
        "colab_type": "code",
        "colab": {},
        "outputId": "755e93b7-a7dc-4221-f8fd-d7a9eb0c0d3e"
      },
      "source": [
        "en_w2v.wv.doesnt_match('messi ronaldo einstein rivaldo buffon'.split())"
      ],
      "execution_count": 0,
      "outputs": [
        {
          "output_type": "execute_result",
          "data": {
            "text/plain": [
              "'einstein'"
            ]
          },
          "metadata": {
            "tags": []
          },
          "execution_count": 15
        }
      ]
    },
    {
      "cell_type": "code",
      "metadata": {
        "id": "FyNoF9LRBy9v",
        "colab_type": "code",
        "colab": {},
        "outputId": "8d317dc3-0933-4ea8-a14a-517f70090b2f"
      },
      "source": [
        "en_w2v.wv.doesnt_match('einstein hawking darwin bohr curie tesla'.split())"
      ],
      "execution_count": 0,
      "outputs": [
        {
          "output_type": "execute_result",
          "data": {
            "text/plain": [
              "'darwin'"
            ]
          },
          "metadata": {
            "tags": []
          },
          "execution_count": 16
        }
      ]
    },
    {
      "cell_type": "code",
      "metadata": {
        "id": "wwiRezIkBy9z",
        "colab_type": "code",
        "colab": {},
        "outputId": "c7d5dc99-d87e-4f44-af09-7d8e252d6e9b"
      },
      "source": [
        "en_w2v.wv.doesnt_match('physics mathematics chemistry biology history'.split())"
      ],
      "execution_count": 0,
      "outputs": [
        {
          "output_type": "execute_result",
          "data": {
            "text/plain": [
              "'history'"
            ]
          },
          "metadata": {
            "tags": []
          },
          "execution_count": 17
        }
      ]
    },
    {
      "cell_type": "code",
      "metadata": {
        "id": "dlbx9YvLBy93",
        "colab_type": "code",
        "colab": {},
        "outputId": "9558ed06-5873-463e-f314-11b98ad72247"
      },
      "source": [
        "en_w2v.wv.doesnt_match('germany hungary slovakia usa france italy'.split())"
      ],
      "execution_count": 0,
      "outputs": [
        {
          "output_type": "execute_result",
          "data": {
            "text/plain": [
              "'usa'"
            ]
          },
          "metadata": {
            "tags": []
          },
          "execution_count": 18
        }
      ]
    }
  ]
}