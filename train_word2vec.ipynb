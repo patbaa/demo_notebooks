{
  "nbformat": 4,
  "nbformat_minor": 0,
  "metadata": {
    "kernelspec": {
      "display_name": "Python 3",
      "language": "python",
      "name": "python3"
    },
    "language_info": {
      "codemirror_mode": {
        "name": "ipython",
        "version": 3
      },
      "file_extension": ".py",
      "mimetype": "text/x-python",
      "name": "python",
      "nbconvert_exporter": "python",
      "pygments_lexer": "ipython3",
      "version": "3.5.5"
    },
    "colab": {
      "name": "train_word2vec.ipynb",
      "provenance": [],
      "include_colab_link": true
    }
  },
  "cells": [
    {
      "cell_type": "markdown",
      "metadata": {
        "id": "view-in-github",
        "colab_type": "text"
      },
      "source": [
        "<a href=\"https://colab.research.google.com/github/patbaa/demo_notebooks/blob/master/train_word2vec.ipynb\" target=\"_parent\"><img src=\"https://colab.research.google.com/assets/colab-badge.svg\" alt=\"Open In Colab\"/></a>"
      ]
    },
    {
      "cell_type": "markdown",
      "metadata": {
        "id": "dqI56FxU-I5D",
        "colab_type": "text"
      },
      "source": [
        "# Download the English Wikipedia as corpus\n",
        "- https://dumps.wikimedia.org/enwiki/latest/enwiki-latest-pages-articles.xml.bz2\n",
        "- 16GB as of 2020.02.05.\n",
        "\n",
        "You may not be able to train this model on Google Colab due to its computational need."
      ]
    },
    {
      "cell_type": "code",
      "metadata": {
        "id": "6HNfLWVH-I5H",
        "colab_type": "code",
        "colab": {}
      },
      "source": [
        "from gensim.corpora import WikiCorpus\n",
        "from gensim.models.word2vec import Word2Vec"
      ],
      "execution_count": 0,
      "outputs": []
    },
    {
      "cell_type": "markdown",
      "metadata": {
        "id": "c2b8DE8L-I5N",
        "colab_type": "text"
      },
      "source": [
        "Parsing the XML file takes some time..."
      ]
    },
    {
      "cell_type": "code",
      "metadata": {
        "id": "mwcL8pLF-I5O",
        "colab_type": "code",
        "colab": {},
        "outputId": "ee3678ab-c8b0-4976-da9f-e6de08b2a490"
      },
      "source": [
        "%%time\n",
        "en_wiki = WikiCorpus('enwiki-latest-pages-articles.xml.bz2')\n",
        "en_articles = list(en_wiki.get_texts())\n",
        "len(en_articles)"
      ],
      "execution_count": 0,
      "outputs": [
        {
          "output_type": "stream",
          "text": [
            "CPU times: user 3h 50min 17s, sys: 38min 30s, total: 4h 28min 48s\n",
            "Wall time: 5h 33s\n"
          ],
          "name": "stdout"
        }
      ]
    },
    {
      "cell_type": "markdown",
      "metadata": {
        "id": "YcQwA_sV-I5T",
        "colab_type": "text"
      },
      "source": [
        "### Check a random article"
      ]
    },
    {
      "cell_type": "code",
      "metadata": {
        "id": "i2FnQqfm-I5U",
        "colab_type": "code",
        "colab": {},
        "outputId": "2fc02a25-a44c-453e-e0e2-b06a026c769a"
      },
      "source": [
        "en_articles[5161][0:20]"
      ],
      "execution_count": 0,
      "outputs": [
        {
          "output_type": "execute_result",
          "data": {
            "text/plain": [
              "['fearless',\n",
              " 'is',\n",
              " 'american',\n",
              " 'drama',\n",
              " 'film',\n",
              " 'directed',\n",
              " 'by',\n",
              " 'peter',\n",
              " 'weir',\n",
              " 'and',\n",
              " 'starring',\n",
              " 'jeff',\n",
              " 'bridges',\n",
              " 'isabella',\n",
              " 'rossellini',\n",
              " 'rosie',\n",
              " 'perez',\n",
              " 'and',\n",
              " 'john',\n",
              " 'turturro']"
            ]
          },
          "metadata": {
            "tags": []
          },
          "execution_count": 3
        }
      ]
    },
    {
      "cell_type": "markdown",
      "metadata": {
        "id": "Rpb9oxIR-I5Y",
        "colab_type": "text"
      },
      "source": [
        "<img src=\"http://patbaa.web.elte.hu/fearless.png\">"
      ]
    },
    {
      "cell_type": "markdown",
      "metadata": {
        "id": "BqYL3x6g-I5Z",
        "colab_type": "text"
      },
      "source": [
        "## Train a word2vec model.\n",
        " - size $\\to$ dimensionality of the embedding layer\n",
        " - window $\\to$ number neighbors for the continuous bag of words model\n",
        " - min_count $\\to$ exclude too infrequent words\n",
        " - sample $\\to$ words that are more frequent than this are undersampled"
      ]
    },
    {
      "cell_type": "code",
      "metadata": {
        "id": "r9nw1Fa--I5a",
        "colab_type": "code",
        "colab": {},
        "outputId": "ab363acc-f25e-449d-b99a-27b3547e2d48"
      },
      "source": [
        "%%time\n",
        "params = {'size': 200, 'window': 10, 'min_count': 10, 'workers':20 , 'sample': 1e-3}\n",
        "en_word2vec = Word2Vec(en_articles, **params)\n",
        "en_word2vec.save('en_word2vec')"
      ],
      "execution_count": 0,
      "outputs": [
        {
          "output_type": "stream",
          "text": [
            "CPU times: user 20h 46min 13s, sys: 30min 52s, total: 21h 17min 6s\n",
            "Wall time: 3h 55min 23s\n"
          ],
          "name": "stdout"
        }
      ]
    }
  ]
}