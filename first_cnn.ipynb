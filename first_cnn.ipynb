{
  "nbformat": 4,
  "nbformat_minor": 0,
  "metadata": {
    "colab": {
      "name": "first_cnn.ipynb",
      "provenance": [],
      "authorship_tag": "ABX9TyOwrann2ozULT5TT4AuKlKJ",
      "include_colab_link": true
    },
    "kernelspec": {
      "name": "python3",
      "display_name": "Python 3"
    },
    "accelerator": "GPU"
  },
  "cells": [
    {
      "cell_type": "markdown",
      "metadata": {
        "id": "view-in-github",
        "colab_type": "text"
      },
      "source": [
        "<a href=\"https://colab.research.google.com/github/patbaa/demo_notebooks/blob/master/first_cnn.ipynb\" target=\"_parent\"><img src=\"https://colab.research.google.com/assets/colab-badge.svg\" alt=\"Open In Colab\"/></a>"
      ]
    },
    {
      "cell_type": "markdown",
      "metadata": {
        "id": "21rCqiJ6Mo1C",
        "colab_type": "text"
      },
      "source": [
        "\n",
        "# Notebook to train your first CNN on the cifar 10 dataset\n"
      ]
    },
    {
      "cell_type": "code",
      "metadata": {
        "id": "FeoDlnW4Mvuz",
        "colab_type": "code",
        "colab": {}
      },
      "source": [
        "%tensorflow_version 2.x"
      ],
      "execution_count": 0,
      "outputs": []
    },
    {
      "cell_type": "code",
      "metadata": {
        "id": "w30rMgcbuMCh",
        "colab_type": "code",
        "colab": {}
      },
      "source": [
        "import numpy as np\n",
        "import matplotlib.pyplot as plt\n",
        "from mpl_toolkits.axes_grid1 import ImageGrid\n",
        "\n",
        "\n",
        "from tensorflow import keras\n",
        "from tensorflow.keras.layers import *\n",
        "\n",
        "%matplotlib inline"
      ],
      "execution_count": 0,
      "outputs": []
    },
    {
      "cell_type": "markdown",
      "metadata": {
        "id": "SDX07pIu_AbB",
        "colab_type": "text"
      },
      "source": [
        "## Load data and check dimensions plus visualize a few images\n",
        "\n",
        "## The CIFAR10 dataset consists of 10 categories:\n",
        " - airplane\n",
        " - automobile\n",
        " - bird\n",
        " - cat\n",
        " - deer\n",
        " - dog\n",
        " - frog\n",
        " - horse\n",
        " - ship\n",
        " - truck\n",
        "\n",
        "Each ismage is 32x32 pixels and RGB. Because of the size of the images and the categories, the task is not as easy as it was for the MNIST!"
      ]
    },
    {
      "cell_type": "code",
      "metadata": {
        "id": "thc9cZwmuNHg",
        "colab_type": "code",
        "colab": {}
      },
      "source": [
        "(x_train, y_train), (x_test, y_test) = keras.datasets.cifar10.load_data()\n",
        "print(f'x_train shape: {x_train.shape}')\n",
        "print(f'{x_train.shape[0]} train samples')\n",
        "print(f'{x_test.shape[0]} test samples')"
      ],
      "execution_count": 0,
      "outputs": []
    },
    {
      "cell_type": "code",
      "metadata": {
        "id": "Hd-kENd0uTnl",
        "colab_type": "code",
        "colab": {}
      },
      "source": [
        "cifar10classes = {0:'airplane', 1:'automobile', 2:'bird', 3:'cat', 4:'deer', \n",
        "                  5:'dog', 6:'frog', 7:'horse', 8:'ship', 9:'truck'}\n",
        "fig = plt.figure(1, (15., 4.))\n",
        "grid = ImageGrid(fig, 111, nrows_ncols=(3, 12), axes_pad=0.4)\n",
        "\n",
        "for i in range(36):\n",
        "    grid[i].imshow(x_train[i])\n",
        "    grid[i].set_title(cifar10classes[y_train[i][0]])\n",
        "    grid[i].axis('off')"
      ],
      "execution_count": 0,
      "outputs": []
    },
    {
      "cell_type": "markdown",
      "metadata": {
        "id": "FViAuQFG_byw",
        "colab_type": "text"
      },
      "source": [
        "Let's convert the labels to one-hot encoded labels and scale the pixels to 0-1!"
      ]
    },
    {
      "cell_type": "code",
      "metadata": {
        "id": "H62khD2Rugz9",
        "colab_type": "code",
        "colab": {}
      },
      "source": [
        "y_train = keras.utils.to_categorical(y_train, 10)\n",
        "y_test  = keras.utils.to_categorical(y_test,  10)"
      ],
      "execution_count": 0,
      "outputs": []
    },
    {
      "cell_type": "code",
      "metadata": {
        "id": "m9eUhiNouoLw",
        "colab_type": "code",
        "colab": {}
      },
      "source": [
        "x_train = x_train.astype('float32')\n",
        "x_test  = x_test.astype('float32')\n",
        "x_train /= 255\n",
        "x_test  /= 255"
      ],
      "execution_count": 0,
      "outputs": []
    },
    {
      "cell_type": "markdown",
      "metadata": {
        "id": "cBsA4HLk_k8D",
        "colab_type": "text"
      },
      "source": [
        "Our model will be a VGG-like convolutional neural network. Two convolutional layers and a maxpooling consists of a block. Three of these blocks are followed two fully connected layers."
      ]
    },
    {
      "cell_type": "code",
      "metadata": {
        "id": "_MoUPJDRuqdV",
        "colab_type": "code",
        "colab": {}
      },
      "source": [
        "cnn_model = keras.models.Sequential()\n",
        "cnn_model.add(Conv2D(32, (3, 3), input_shape=x_train.shape[1:]))\n",
        "cnn_model.add(Activation('relu'))\n",
        "cnn_model.add(Conv2D(32, (3, 3)))\n",
        "cnn_model.add(Activation('relu'))\n",
        "cnn_model.add(MaxPooling2D())\n",
        "\n",
        "cnn_model.add(Conv2D(64, (3, 3)))\n",
        "cnn_model.add(Activation('relu'))\n",
        "cnn_model.add(Conv2D(64, (3, 3)))\n",
        "cnn_model.add(Activation('relu'))\n",
        "cnn_model.add(MaxPooling2D())\n",
        "\n",
        "cnn_model.add(Conv2D(128, (3, 3)))\n",
        "cnn_model.add(Activation('relu'))\n",
        "cnn_model.add(Conv2D(128, (3, 3)))\n",
        "cnn_model.add(Activation('relu'))\n",
        "cnn_model.add(Flatten())\n",
        "\n",
        "cnn_model.add(Dense(128))\n",
        "cnn_model.add(Activation('relu'))\n",
        "cnn_model.add(Dense(10))\n",
        "cnn_model.add(Activation('softmax'))"
      ],
      "execution_count": 0,
      "outputs": []
    },
    {
      "cell_type": "code",
      "metadata": {
        "id": "Oa2kNJFsutbF",
        "colab_type": "code",
        "colab": {}
      },
      "source": [
        "cnn_model.summary()"
      ],
      "execution_count": 0,
      "outputs": []
    },
    {
      "cell_type": "code",
      "metadata": {
        "id": "u12b46jeu3Sk",
        "colab_type": "code",
        "colab": {}
      },
      "source": [
        "cnn_model.compile(loss='categorical_crossentropy', optimizer=keras.optimizers.Adam(lr=1e-4), metrics=['accuracy'])"
      ],
      "execution_count": 0,
      "outputs": []
    },
    {
      "cell_type": "markdown",
      "metadata": {
        "id": "u1pu_P_i8DHE",
        "colab_type": "text"
      },
      "source": [
        "## Do you have GPU turned on?"
      ]
    },
    {
      "cell_type": "code",
      "metadata": {
        "id": "SRYdctKtu5BM",
        "colab_type": "code",
        "colab": {}
      },
      "source": [
        "cnn_history = cnn_model.fit(x_train, y_train, batch_size=32,\n",
        "                            epochs=50, validation_data=(x_test, y_test), shuffle=True)"
      ],
      "execution_count": 0,
      "outputs": []
    },
    {
      "cell_type": "markdown",
      "metadata": {
        "id": "tLxMI798vLK_",
        "colab_type": "text"
      },
      "source": [
        "# Fully connected via the functional API\n",
        "\n",
        "The functinal API allows to wire more flexible neural networks compare to the sequential API. One layer's outout can be redirected to more than one layer's input and the model can handle multiple outputs coming form different layers. Also it is possible to give more inputs to a single model to different layers (eg an image for the convolutional neural network part & corresponding metadata to the fully connected part. The functional API is not necessary here, just an example."
      ]
    },
    {
      "cell_type": "code",
      "metadata": {
        "id": "wJIPkGJVvAQP",
        "colab_type": "code",
        "colab": {}
      },
      "source": [
        "inp = Input(shape=(32*32*3))\n",
        "x = Dense(2048, activation='relu')(inp)\n",
        "x = Dense(1024, activation='relu')(x)\n",
        "x = Dense(1024, activation='relu')(x)\n",
        "x = Dense(10, activation='softmax')(x)\n",
        "fc_model = keras.models.Model(inputs=inp, outputs=x)"
      ],
      "execution_count": 0,
      "outputs": []
    },
    {
      "cell_type": "code",
      "metadata": {
        "id": "tE4kMVgu7VJM",
        "colab_type": "code",
        "colab": {}
      },
      "source": [
        "fc_model.summary()"
      ],
      "execution_count": 0,
      "outputs": []
    },
    {
      "cell_type": "code",
      "metadata": {
        "id": "-PUGHYcy71lF",
        "colab_type": "code",
        "colab": {}
      },
      "source": [
        "fc_model.compile(loss='categorical_crossentropy', optimizer=keras.optimizers.Adam(lr=1e-4), metrics=['accuracy'])"
      ],
      "execution_count": 0,
      "outputs": []
    },
    {
      "cell_type": "code",
      "metadata": {
        "id": "VtcPTEut764t",
        "colab_type": "code",
        "colab": {}
      },
      "source": [
        "fc_history = fc_model.fit(x_train.reshape(50000, 32*32*3), y_train, batch_size=32,\n",
        "                            epochs=50, validation_data=(x_test.reshape(10000, 32*32*3), y_test), shuffle=True)"
      ],
      "execution_count": 0,
      "outputs": []
    },
    {
      "cell_type": "code",
      "metadata": {
        "id": "lfbFCrM-7-nw",
        "colab_type": "code",
        "colab": {}
      },
      "source": [
        "plt.figure(figsize=(20, 6))\n",
        "plt.subplot(121)\n",
        "plt.plot(fc_history.history['accuracy'], label='FC train acc', lw=5, c='r')\n",
        "plt.plot(fc_history.history['val_accuracy'], label='FC validataion acc', lw=5, c='r', ls='--')\n",
        "plt.plot(cnn_history.history['accuracy'], label='CNN train acc', lw=5, c='b')\n",
        "plt.plot(cnn_history.history['val_accuracy'], label='CNN validataion acc', lw=5, c='b', ls='--')\n",
        "plt.xlabel('#epochs', fontsize=15)\n",
        "plt.ylabel('accuracy', fontsize=15)\n",
        "plt.ylim(0.3, 1)\n",
        "plt.legend(fontsize=15)\n",
        "\n",
        "plt.subplot(122)\n",
        "plt.plot(fc_history.history['loss'], label='FC train loss', lw=5, c='r')\n",
        "plt.plot(fc_history.history['val_loss'], label='FC validataion loss', lw=5, c='r', ls='--')\n",
        "plt.plot(cnn_history.history['loss'], label='CNN train loss', lw=5, c='b')\n",
        "plt.plot(cnn_history.history['val_loss'], label='CNN validataion loss', lw=5, c='b', ls='--')\n",
        "plt.xlabel('#epochs', fontsize=15)\n",
        "plt.ylabel('loss', fontsize=15)\n",
        "plt.legend(fontsize=15)\n",
        "plt.show()"
      ],
      "execution_count": 0,
      "outputs": []
    },
    {
      "cell_type": "markdown",
      "metadata": {
        "id": "conyWTb29gL_",
        "colab_type": "text"
      },
      "source": [
        "# What can we conclude from the learning curves?"
      ]
    }
  ]
}