{
  "nbformat": 4,
  "nbformat_minor": 0,
  "metadata": {
    "kernelspec": {
      "display_name": "Python 3",
      "language": "python",
      "name": "python3"
    },
    "language_info": {
      "codemirror_mode": {
        "name": "ipython",
        "version": 3
      },
      "file_extension": ".py",
      "mimetype": "text/x-python",
      "name": "python",
      "nbconvert_exporter": "python",
      "pygments_lexer": "ipython3",
      "version": "3.8.3"
    },
    "colab": {
      "name": "solution_hw_cnn.ipynb",
      "provenance": [],
      "collapsed_sections": [],
      "include_colab_link": true
    },
    "accelerator": "GPU"
  },
  "cells": [
    {
      "cell_type": "markdown",
      "metadata": {
        "id": "view-in-github",
        "colab_type": "text"
      },
      "source": [
        "<a href=\"https://colab.research.google.com/github/patbaa/demo_notebooks/blob/master/solution_hw_cnn.ipynb\" target=\"_parent\"><img src=\"https://colab.research.google.com/assets/colab-badge.svg\" alt=\"Open In Colab\"/></a>"
      ]
    },
    {
      "cell_type": "markdown",
      "metadata": {
        "id": "XeBgTeuJnd5C"
      },
      "source": [
        "\n",
        "## 1. Download the cifar100 dataset via the tensorflow/keras API\n",
        " - how many classes do we have in the dataset? how many train and test examples do we have?\n",
        " - what is the dimension of the images?\n",
        " - show 5 images from the dataset!\n",
        " - make one-hot encoding for the labels\n",
        "\n",
        " \n",
        "## 2. creating CNN architecutre\n",
        " - create a convolutional neural network\n",
        " - the network should have the following layers:\n",
        "   - input (32, 32, 3)\n",
        "   - conv2D, 16 kernels, kernel size = 3, valid padding, relu actvation\n",
        "   - conv2D, 16 kernels, kernel size = 3, valid padding, relu actvation\n",
        "   - maxpooling kernel size = 2*2\n",
        "   - conv2D, 32 kernels, kernel size = 3, valid padding, relu actvation\n",
        "   - conv2D, 32 kernels, kernel size = 3, valid padding, relu actvation\n",
        "   - maxpooling kernel size = 2*2\n",
        "   - flatten\n",
        "   - dense, 100 neurons, softmax activation\n",
        " - how many parameters do we have for each layer?\n",
        " \n",
        "## 3. training the CNN\n",
        " - use Adam optimizer with default parameters\n",
        " - use categorical crossentropy as loss function\n",
        " - compile the model\n",
        " - print out a summary of the model\n",
        " - train the CNN on the training data for 5 epochs with batch size of 32\n",
        " - use the test data as validation data\n",
        " \n",
        "## 4. Evaluate performance\n",
        " - plot the training and the validation loss on the same plot!\n",
        " - plot the training and the validation accuracy on the same plot!\n",
        " - do we overfit?\n",
        "\n",
        "## 5. Train an other CNN\n",
        " - as we can see the previous archutecture is not the best...\n",
        " - come up with an architecture that can achieve more than 50% accuracy on the test set.\n",
        " - print out the summary for this model!\n",
        " - plot the loss and accuracy curves for this model too!"
      ]
    },
    {
      "cell_type": "markdown",
      "metadata": {
        "id": "E8U98-7znd5E"
      },
      "source": [
        "## 1. Download the cifar100 dataset via the keras API\n",
        " - how many classes do we have in the dataset? how many train and test examples do we have?\n",
        " - what is the dimension of the images?\n",
        " - show 5 images from the dataset!\n",
        " - make one-hot encodig for the labels"
      ]
    },
    {
      "cell_type": "code",
      "metadata": {
        "id": "Ut9YtpZ3nd5E"
      },
      "source": [
        "import pandas as pd\n",
        "import matplotlib.pyplot as plt\n",
        "from tensorflow.keras.datasets import cifar100\n",
        "\n",
        "\n",
        "%matplotlib inline"
      ],
      "execution_count": 1,
      "outputs": []
    },
    {
      "cell_type": "code",
      "metadata": {
        "id": "yL8PNPaJnd5J"
      },
      "source": [
        "(x_train, y_train), (x_test, y_test) = cifar100.load_data(label_mode='fine')"
      ],
      "execution_count": 2,
      "outputs": []
    },
    {
      "cell_type": "code",
      "metadata": {
        "id": "Se7HNh3knd5N",
        "outputId": "4933d4f5-a8b9-449a-ed16-598689e05ab6",
        "colab": {
          "base_uri": "https://localhost:8080/",
          "height": 34
        }
      },
      "source": [
        "x_train.shape\n",
        "\n",
        "# we have 50k images, each is 32*32pixels with 3 color channels"
      ],
      "execution_count": 3,
      "outputs": [
        {
          "output_type": "execute_result",
          "data": {
            "text/plain": [
              "(50000, 32, 32, 3)"
            ]
          },
          "metadata": {
            "tags": []
          },
          "execution_count": 3
        }
      ]
    },
    {
      "cell_type": "code",
      "metadata": {
        "id": "zjsHEbAend5S",
        "outputId": "a425dfc9-b293-444e-8d61-d2bac5c24113",
        "colab": {
          "base_uri": "https://localhost:8080/",
          "height": 34
        }
      },
      "source": [
        "y_train.shape"
      ],
      "execution_count": 4,
      "outputs": [
        {
          "output_type": "execute_result",
          "data": {
            "text/plain": [
              "(50000, 1)"
            ]
          },
          "metadata": {
            "tags": []
          },
          "execution_count": 4
        }
      ]
    },
    {
      "cell_type": "code",
      "metadata": {
        "id": "5n2Zg9AYnd5W",
        "outputId": "1f5046e1-b6bb-4f14-c386-cb2df40a6c1d",
        "colab": {
          "base_uri": "https://localhost:8080/",
          "height": 34
        }
      },
      "source": [
        "len(pd.unique(y_train.reshape(y_train.shape[0])))\n",
        "# we have 100 classes"
      ],
      "execution_count": 5,
      "outputs": [
        {
          "output_type": "execute_result",
          "data": {
            "text/plain": [
              "100"
            ]
          },
          "metadata": {
            "tags": []
          },
          "execution_count": 5
        }
      ]
    },
    {
      "cell_type": "code",
      "metadata": {
        "id": "yyT7yWg_nd5a",
        "outputId": "8c16710d-a0a3-4cf7-a50f-c0e90a9c46e5",
        "colab": {
          "base_uri": "https://localhost:8080/",
          "height": 556
        }
      },
      "source": [
        "plt.rcParams['figure.figsize'] = (1, 1)\n",
        "for i in range(5):\n",
        "    plt.imshow(x_train[i])\n",
        "    plt.title(y_train[i])\n",
        "    plt.show()"
      ],
      "execution_count": 6,
      "outputs": [
        {
          "output_type": "stream",
          "text": [
            "/usr/local/lib/python3.6/dist-packages/matplotlib/text.py:1165: FutureWarning: elementwise comparison failed; returning scalar instead, but in the future will perform elementwise comparison\n",
            "  if s != self._text:\n"
          ],
          "name": "stderr"
        },
        {
          "output_type": "display_data",
          "data": {
            "image/png": "[encoded data removed]",
            "text/plain": [
              "<Figure size 72x72 with 1 Axes>"
            ]
          },
          "metadata": {
            "tags": [],
            "needs_background": "light"
          }
        },
        {
          "output_type": "display_data",
          "data": {
            "image/png": "[encoded data removed]",
            "text/plain": [
              "<Figure size 72x72 with 1 Axes>"
            ]
          },
          "metadata": {
            "tags": [],
            "needs_background": "light"
          }
        },
        {
          "output_type": "display_data",
          "data": {
            "image/png": "[encoded data removed]",
            "text/plain": [
              "<Figure size 72x72 with 1 Axes>"
            ]
          },
          "metadata": {
            "tags": [],
            "needs_background": "light"
          }
        },
        {
          "output_type": "display_data",
          "data": {
            "image/png": "[encoded data removed]",
            "text/plain": [
              "<Figure size 72x72 with 1 Axes>"
            ]
          },
          "metadata": {
            "tags": [],
            "needs_background": "light"
          }
        },
        {
          "output_type": "display_data",
          "data": {
            "image/png": "[encoded data removed]",
            "text/plain": [
              "<Figure size 72x72 with 1 Axes>"
            ]
          },
          "metadata": {
            "tags": [],
            "needs_background": "light"
          }
        }
      ]
    },
    {
      "cell_type": "code",
      "metadata": {
        "id": "I-wpbLTend5e"
      },
      "source": [
        "from tensorflow.keras.utils import to_categorical"
      ],
      "execution_count": 7,
      "outputs": []
    },
    {
      "cell_type": "code",
      "metadata": {
        "id": "88x-hvGCnd5j"
      },
      "source": [
        "y_train_oh = to_categorical(y_train)\n",
        "y_test_oh  = to_categorical(y_test)"
      ],
      "execution_count": 8,
      "outputs": []
    },
    {
      "cell_type": "markdown",
      "metadata": {
        "id": "-PRpiPAond5m"
      },
      "source": [
        "## 2. creating CNN architecutre\n",
        " - create a convolutional neural network\n",
        " - the network should have the following layers:\n",
        "   - input (32, 32, 3)\n",
        "   - conv2D, 16 kernels, kernel size = 3, valid padding, relu actvation\n",
        "   - conv2D, 16 kernels, kernel size = 3, valid padding, relu actvation\n",
        "   - maxpooling kernel size = 2*2\n",
        "   - conv2D, 32 kernels, kernel size = 3, valid padding, relu actvation\n",
        "   - conv2D, 32 kernels, kernel size = 3, valid padding, relu actvation\n",
        "   - maxpooling kernel size = 2*2\n",
        "   - flatten\n",
        "   - dense, 100 neurons, softmax activation\n",
        " - how many parameters do we have for each layer?"
      ]
    },
    {
      "cell_type": "code",
      "metadata": {
        "id": "CzqRH5Vknd5n"
      },
      "source": [
        "from tensorflow.keras.models import Sequential\n",
        "from tensorflow.keras.layers import Dense, Conv2D, Flatten, MaxPooling2D"
      ],
      "execution_count": 9,
      "outputs": []
    },
    {
      "cell_type": "code",
      "metadata": {
        "id": "0XXsoi1gnd5q",
        "outputId": "5b3b6b0c-e98b-4e2f-89d2-83ef253d7260",
        "colab": {
          "base_uri": "https://localhost:8080/",
          "height": 425
        }
      },
      "source": [
        "model = Sequential()\n",
        "#add model layers\n",
        "model.add(Conv2D(16, kernel_size=3, activation='relu', input_shape=(32,32,3)))\n",
        "model.add(Conv2D(16, kernel_size=3, activation='relu'))\n",
        "model.add(MaxPooling2D())\n",
        "\n",
        "model.add(Conv2D(32, kernel_size=3, activation='relu'))\n",
        "model.add(Conv2D(32, kernel_size=3, activation='relu'))\n",
        "model.add(MaxPooling2D())\n",
        "\n",
        "model.add(Flatten())\n",
        "model.add(Dense(100, activation='softmax'))\n",
        "model.summary()"
      ],
      "execution_count": 10,
      "outputs": [
        {
          "output_type": "stream",
          "text": [
            "Model: \"sequential\"\n",
            "_________________________________________________________________\n",
            "Layer (type)                 Output Shape              Param #   \n",
            "=================================================================\n",
            "conv2d (Conv2D)              (None, 30, 30, 16)        448       \n",
            "_________________________________________________________________\n",
            "conv2d_1 (Conv2D)            (None, 28, 28, 16)        2320      \n",
            "_________________________________________________________________\n",
            "max_pooling2d (MaxPooling2D) (None, 14, 14, 16)        0         \n",
            "_________________________________________________________________\n",
            "conv2d_2 (Conv2D)            (None, 12, 12, 32)        4640      \n",
            "_________________________________________________________________\n",
            "conv2d_3 (Conv2D)            (None, 10, 10, 32)        9248      \n",
            "_________________________________________________________________\n",
            "max_pooling2d_1 (MaxPooling2 (None, 5, 5, 32)          0         \n",
            "_________________________________________________________________\n",
            "flatten (Flatten)            (None, 800)               0         \n",
            "_________________________________________________________________\n",
            "dense (Dense)                (None, 100)               80100     \n",
            "=================================================================\n",
            "Total params: 96,756\n",
            "Trainable params: 96,756\n",
            "Non-trainable params: 0\n",
            "_________________________________________________________________\n"
          ],
          "name": "stdout"
        }
      ]
    },
    {
      "cell_type": "markdown",
      "metadata": {
        "id": "s8cAgMB6nd5t"
      },
      "source": [
        "## 3. training the CNN\n",
        " - scale the training and testing data to have 0 mean and 1 variance!\n",
        " - use Adam optimizer with default parameters\n",
        " - use categorical crossentropy as loss function\n",
        " - use accuracy as metric\n",
        " - compile the model\n",
        " - print out a summary of the model\n",
        " - train the CNN on the training data for 5 epochs with batch size of 32\n",
        " - save the history of the training process!"
      ]
    },
    {
      "cell_type": "code",
      "metadata": {
        "id": "-Yn30p-Nnd5u"
      },
      "source": [
        "std = x_train.std()\n",
        "mean = x_train.mean()\n",
        "\n",
        "x_train = (x_train - mean)/std\n",
        "x_test  = (x_test - mean)/std"
      ],
      "execution_count": 11,
      "outputs": []
    },
    {
      "cell_type": "code",
      "metadata": {
        "id": "yVKQzGxrnd5x"
      },
      "source": [
        "model.compile(optimizer='adam', loss='categorical_crossentropy', metrics=['accuracy'])"
      ],
      "execution_count": 12,
      "outputs": []
    },
    {
      "cell_type": "code",
      "metadata": {
        "id": "5eUVK-U5nd50",
        "outputId": "d5ecf78a-02d9-4a6f-d46d-a2af16bfdc42",
        "colab": {
          "base_uri": "https://localhost:8080/",
          "height": 357
        }
      },
      "source": [
        "history = model.fit(x_train, y_train_oh, epochs=10, batch_size=32, validation_data=(x_test, y_test_oh))"
      ],
      "execution_count": 13,
      "outputs": [
        {
          "output_type": "stream",
          "text": [
            "Epoch 1/10\n",
            "1563/1563 [==============================] - 6s 4ms/step - loss: 3.6181 - accuracy: 0.1622 - val_loss: 3.1553 - val_accuracy: 0.2533\n",
            "Epoch 2/10\n",
            "1563/1563 [==============================] - 5s 4ms/step - loss: 2.9287 - accuracy: 0.2855 - val_loss: 2.9245 - val_accuracy: 0.2900\n",
            "Epoch 3/10\n",
            "1563/1563 [==============================] - 5s 3ms/step - loss: 2.6373 - accuracy: 0.3415 - val_loss: 2.7105 - val_accuracy: 0.3324\n",
            "Epoch 4/10\n",
            "1563/1563 [==============================] - 6s 4ms/step - loss: 2.4335 - accuracy: 0.3856 - val_loss: 2.6492 - val_accuracy: 0.3419\n",
            "Epoch 5/10\n",
            "1563/1563 [==============================] - 5s 4ms/step - loss: 2.2859 - accuracy: 0.4165 - val_loss: 2.6348 - val_accuracy: 0.3526\n",
            "Epoch 6/10\n",
            "1563/1563 [==============================] - 6s 4ms/step - loss: 2.1691 - accuracy: 0.4433 - val_loss: 2.5484 - val_accuracy: 0.3734\n",
            "Epoch 7/10\n",
            "1563/1563 [==============================] - 5s 4ms/step - loss: 2.0773 - accuracy: 0.4620 - val_loss: 2.6440 - val_accuracy: 0.3584\n",
            "Epoch 8/10\n",
            "1563/1563 [==============================] - 5s 4ms/step - loss: 1.9903 - accuracy: 0.4830 - val_loss: 2.6124 - val_accuracy: 0.3708\n",
            "Epoch 9/10\n",
            "1563/1563 [==============================] - 6s 4ms/step - loss: 1.9252 - accuracy: 0.4961 - val_loss: 2.6537 - val_accuracy: 0.3655\n",
            "Epoch 10/10\n",
            "1563/1563 [==============================] - 6s 4ms/step - loss: 1.8606 - accuracy: 0.5086 - val_loss: 2.6210 - val_accuracy: 0.3667\n"
          ],
          "name": "stdout"
        }
      ]
    },
    {
      "cell_type": "markdown",
      "metadata": {
        "id": "XXQJ8bYBnd54"
      },
      "source": [
        "## 4. Evaluate performance\n",
        " - plot the training and the validation loss on the same plot!\n",
        " - plot the training and the validation accuracy on the same plot!\n",
        " - do we overfit?"
      ]
    },
    {
      "cell_type": "code",
      "metadata": {
        "id": "SdKNMiiwnd55",
        "outputId": "a3ed68db-26d8-48b0-e22e-0a046c65360c",
        "colab": {
          "base_uri": "https://localhost:8080/",
          "height": 697
        }
      },
      "source": [
        "history.history"
      ],
      "execution_count": 14,
      "outputs": [
        {
          "output_type": "execute_result",
          "data": {
            "text/plain": [
              "{'accuracy': [0.16218000650405884,\n",
              "  0.2854599952697754,\n",
              "  0.34154000878334045,\n",
              "  0.385560005903244,\n",
              "  0.41648000478744507,\n",
              "  0.4432600140571594,\n",
              "  0.46195998787879944,\n",
              "  0.4830000102519989,\n",
              "  0.49606001377105713,\n",
              "  0.508620023727417],\n",
              " 'loss': [3.6180667877197266,\n",
              "  2.928663969039917,\n",
              "  2.6373465061187744,\n",
              "  2.4335083961486816,\n",
              "  2.2859439849853516,\n",
              "  2.169074296951294,\n",
              "  2.0772757530212402,\n",
              "  1.9903419017791748,\n",
              "  1.9251724481582642,\n",
              "  1.8606226444244385],\n",
              " 'val_accuracy': [0.2533000111579895,\n",
              "  0.28999999165534973,\n",
              "  0.33239999413490295,\n",
              "  0.3418999910354614,\n",
              "  0.35260000824928284,\n",
              "  0.3734000027179718,\n",
              "  0.35839998722076416,\n",
              "  0.3707999885082245,\n",
              "  0.36550000309944153,\n",
              "  0.3666999936103821],\n",
              " 'val_loss': [3.155283212661743,\n",
              "  2.924504518508911,\n",
              "  2.710460662841797,\n",
              "  2.649221897125244,\n",
              "  2.6347835063934326,\n",
              "  2.5484073162078857,\n",
              "  2.6440086364746094,\n",
              "  2.612414598464966,\n",
              "  2.6536502838134766,\n",
              "  2.6210391521453857]}"
            ]
          },
          "metadata": {
            "tags": []
          },
          "execution_count": 14
        }
      ]
    },
    {
      "cell_type": "code",
      "metadata": {
        "id": "UVP6GVhqnd58",
        "outputId": "0f512daf-6046-4664-8899-5007560f8cdc",
        "colab": {
          "base_uri": "https://localhost:8080/",
          "height": 428
        }
      },
      "source": [
        "plt.rcParams['figure.figsize'] = (10, 7)\n",
        "plt.plot(history.history['val_loss'], label='val_loss')\n",
        "plt.plot(history.history['loss'], label='loss')\n",
        "plt.legend()\n",
        "plt.show()"
      ],
      "execution_count": 15,
      "outputs": [
        {
          "output_type": "display_data",
          "data": {
            "image/png": "[encoded data removed]",
            "text/plain": [
              "<Figure size 720x504 with 1 Axes>"
            ]
          },
          "metadata": {
            "tags": [],
            "needs_background": "light"
          }
        }
      ]
    },
    {
      "cell_type": "code",
      "metadata": {
        "id": "DXLdJN_5nd6C",
        "outputId": "c9b74902-ec49-4f0d-96dc-688dffa04adb",
        "colab": {
          "base_uri": "https://localhost:8080/",
          "height": 428
        }
      },
      "source": [
        "plt.rcParams['figure.figsize'] = (10, 7)\n",
        "plt.plot(history.history['val_accuracy'], label='val_accuracy')\n",
        "plt.plot(history.history['accuracy'], label='accuracy')\n",
        "plt.legend()\n",
        "plt.show()"
      ],
      "execution_count": 16,
      "outputs": [
        {
          "output_type": "display_data",
          "data": {
            "image/png": "[encoded data removed]",
            "text/plain": [
              "<Figure size 720x504 with 1 Axes>"
            ]
          },
          "metadata": {
            "tags": [],
            "needs_background": "light"
          }
        }
      ]
    },
    {
      "cell_type": "markdown",
      "metadata": {
        "id": "2V7E0Ohond6F"
      },
      "source": [
        "## 5. Train an other CNN\n",
        " - as we can see the previous archutecture is not the best...\n",
        " - come up with an architecture that can achieve more than 40% accuracy on the test set.\n",
        " - print out the summary for this model!\n",
        " - plot the loss and accuracy curves for this model too!"
      ]
    },
    {
      "cell_type": "markdown",
      "metadata": {
        "id": "PITkkBX_nd6F"
      },
      "source": [
        "### Make it deeper and have more conv kernels!"
      ]
    },
    {
      "cell_type": "code",
      "metadata": {
        "id": "KFoY8Ge3nd6G",
        "outputId": "9d9fef5a-c067-4515-8787-83000de74e5e",
        "colab": {
          "base_uri": "https://localhost:8080/",
          "height": 425
        }
      },
      "source": [
        "model = Sequential()\n",
        "#add model layers\n",
        "model.add(Conv2D(64, kernel_size=3, activation='relu', input_shape=(32,32,3), padding='valid'))\n",
        "model.add(Conv2D(64, kernel_size=3, activation='relu', padding='valid'))\n",
        "model.add(MaxPooling2D())\n",
        "\n",
        "model.add(Conv2D(128, kernel_size=3, activation='relu', padding='valid'))\n",
        "model.add(Conv2D(128, kernel_size=3, activation='relu', padding='valid'))\n",
        "model.add(MaxPooling2D())\n",
        "\n",
        "model.add(Flatten())\n",
        "model.add(Dense(100, activation='softmax'))\n",
        "model.summary()"
      ],
      "execution_count": 17,
      "outputs": [
        {
          "output_type": "stream",
          "text": [
            "Model: \"sequential_1\"\n",
            "_________________________________________________________________\n",
            "Layer (type)                 Output Shape              Param #   \n",
            "=================================================================\n",
            "conv2d_4 (Conv2D)            (None, 30, 30, 64)        1792      \n",
            "_________________________________________________________________\n",
            "conv2d_5 (Conv2D)            (None, 28, 28, 64)        36928     \n",
            "_________________________________________________________________\n",
            "max_pooling2d_2 (MaxPooling2 (None, 14, 14, 64)        0         \n",
            "_________________________________________________________________\n",
            "conv2d_6 (Conv2D)            (None, 12, 12, 128)       73856     \n",
            "_________________________________________________________________\n",
            "conv2d_7 (Conv2D)            (None, 10, 10, 128)       147584    \n",
            "_________________________________________________________________\n",
            "max_pooling2d_3 (MaxPooling2 (None, 5, 5, 128)         0         \n",
            "_________________________________________________________________\n",
            "flatten_1 (Flatten)          (None, 3200)              0         \n",
            "_________________________________________________________________\n",
            "dense_1 (Dense)              (None, 100)               320100    \n",
            "=================================================================\n",
            "Total params: 580,260\n",
            "Trainable params: 580,260\n",
            "Non-trainable params: 0\n",
            "_________________________________________________________________\n"
          ],
          "name": "stdout"
        }
      ]
    },
    {
      "cell_type": "code",
      "metadata": {
        "id": "MsR885ZRnd6K"
      },
      "source": [
        "model.compile(optimizer='adam', loss='categorical_crossentropy', metrics=['accuracy'])"
      ],
      "execution_count": 18,
      "outputs": []
    },
    {
      "cell_type": "code",
      "metadata": {
        "id": "y2W8YLkond6N",
        "outputId": "ed0f3b29-aacb-465f-dc64-603e1f4b6f99",
        "colab": {
          "base_uri": "https://localhost:8080/",
          "height": 357
        }
      },
      "source": [
        "history = model.fit(x_train, y_train_oh, epochs=10, batch_size=256, validation_data=(x_test, y_test_oh))"
      ],
      "execution_count": 19,
      "outputs": [
        {
          "output_type": "stream",
          "text": [
            "Epoch 1/10\n",
            "196/196 [==============================] - 3s 18ms/step - loss: 3.6542 - accuracy: 0.1551 - val_loss: 3.1960 - val_accuracy: 0.2425\n",
            "Epoch 2/10\n",
            "196/196 [==============================] - 3s 16ms/step - loss: 2.8314 - accuracy: 0.3076 - val_loss: 2.7432 - val_accuracy: 0.3233\n",
            "Epoch 3/10\n",
            "196/196 [==============================] - 3s 16ms/step - loss: 2.4158 - accuracy: 0.3902 - val_loss: 2.5466 - val_accuracy: 0.3726\n",
            "Epoch 4/10\n",
            "196/196 [==============================] - 3s 16ms/step - loss: 2.0944 - accuracy: 0.4602 - val_loss: 2.4484 - val_accuracy: 0.3990\n",
            "Epoch 5/10\n",
            "196/196 [==============================] - 3s 16ms/step - loss: 1.8111 - accuracy: 0.5247 - val_loss: 2.3695 - val_accuracy: 0.4142\n",
            "Epoch 6/10\n",
            "196/196 [==============================] - 3s 16ms/step - loss: 1.5779 - accuracy: 0.5746 - val_loss: 2.3270 - val_accuracy: 0.4330\n",
            "Epoch 7/10\n",
            "196/196 [==============================] - 3s 16ms/step - loss: 1.3605 - accuracy: 0.6286 - val_loss: 2.4757 - val_accuracy: 0.4299\n",
            "Epoch 8/10\n",
            "196/196 [==============================] - 3s 16ms/step - loss: 1.1503 - accuracy: 0.6811 - val_loss: 2.6467 - val_accuracy: 0.4221\n",
            "Epoch 9/10\n",
            "196/196 [==============================] - 3s 16ms/step - loss: 0.9635 - accuracy: 0.7284 - val_loss: 2.7434 - val_accuracy: 0.4246\n",
            "Epoch 10/10\n",
            "196/196 [==============================] - 3s 16ms/step - loss: 0.8133 - accuracy: 0.7626 - val_loss: 2.9964 - val_accuracy: 0.4212\n"
          ],
          "name": "stdout"
        }
      ]
    },
    {
      "cell_type": "code",
      "metadata": {
        "id": "QZK_0ygzrVnV"
      },
      "source": [
        ""
      ],
      "execution_count": 19,
      "outputs": []
    }
  ]
}