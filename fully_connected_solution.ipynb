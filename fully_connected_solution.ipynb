{
  "nbformat": 4,
  "nbformat_minor": 0,
  "metadata": {
    "kernelspec": {
      "display_name": "Python 3",
      "language": "python",
      "name": "python3"
    },
    "language_info": {
      "codemirror_mode": {
        "name": "ipython",
        "version": 3
      },
      "file_extension": ".py",
      "mimetype": "text/x-python",
      "name": "python",
      "nbconvert_exporter": "python",
      "pygments_lexer": "ipython3",
      "version": "3.6.10"
    },
    "colab": {
      "name": "fully_connected_solution.ipynb",
      "provenance": [],
      "include_colab_link": true
    },
    "accelerator": "GPU"
  },
  "cells": [
    {
      "cell_type": "markdown",
      "metadata": {
        "id": "view-in-github",
        "colab_type": "text"
      },
      "source": [
        "<a href=\"https://colab.research.google.com/github/patbaa/demo_notebooks/blob/master/fully_connected_solution.ipynb\" target=\"_parent\"><img src=\"https://colab.research.google.com/assets/colab-badge.svg\" alt=\"Open In Colab\"/></a>"
      ]
    },
    {
      "cell_type": "code",
      "metadata": {
        "id": "K-XADOnVlps-",
        "outputId": "c6d74c94-80d6-499a-8e89-ffbb8147b5bc",
        "colab": {
          "base_uri": "https://localhost:8080/",
          "height": 34
        }
      },
      "source": [
        "import pandas as pd\n",
        "from sklearn.linear_model import Perceptron\n",
        "from sklearn.neural_network import MLPClassifier\n",
        "from sklearn.model_selection import train_test_split\n",
        "from sklearn.metrics import roc_auc_score, roc_curve\n",
        "from tensorflow.keras import Sequential\n",
        "from tensorflow.keras.layers import Dense\n",
        "from tensorflow.keras.utils import to_categorical\n",
        "from tensorflow.keras.datasets import mnist\n",
        "from tensorflow.keras.optimizers import Adam, SGD\n",
        "from sklearn.ensemble import RandomForestClassifier\n",
        "\n",
        "%pylab inline"
      ],
      "execution_count": 1,
      "outputs": [
        {
          "output_type": "stream",
          "text": [
            "Populating the interactive namespace from numpy and matplotlib\n"
          ],
          "name": "stdout"
        }
      ]
    },
    {
      "cell_type": "markdown",
      "metadata": {
        "id": "nJqwDwVLlptF"
      },
      "source": [
        "# 0. load titanic"
      ]
    },
    {
      "cell_type": "code",
      "metadata": {
        "id": "vWbJkcIolptF",
        "outputId": "39d96703-ce91-4e84-c72e-3cf7bf728d80",
        "colab": {
          "base_uri": "https://localhost:8080/",
          "height": 204
        }
      },
      "source": [
        "data = pd.read_csv('http://patbaa.web.elte.hu/titanic.csv')\n",
        "data.drop(['Name', 'Ticket', 'PassengerId'], axis=1, inplace=True)\n",
        "\n",
        "data.head()"
      ],
      "execution_count": 2,
      "outputs": [
        {
          "output_type": "execute_result",
          "data": {
            "text/html": [
              "<div>\n",
              "<style scoped>\n",
              "    .dataframe tbody tr th:only-of-type {\n",
              "        vertical-align: middle;\n",
              "    }\n",
              "\n",
              "    .dataframe tbody tr th {\n",
              "        vertical-align: top;\n",
              "    }\n",
              "\n",
              "    .dataframe thead th {\n",
              "        text-align: right;\n",
              "    }\n",
              "</style>\n",
              "<table border=\"1\" class=\"dataframe\">\n",
              "  <thead>\n",
              "    <tr style=\"text-align: right;\">\n",
              "      <th></th>\n",
              "      <th>Survived</th>\n",
              "      <th>Pclass</th>\n",
              "      <th>Sex</th>\n",
              "      <th>Age</th>\n",
              "      <th>SibSp</th>\n",
              "      <th>Parch</th>\n",
              "      <th>Fare</th>\n",
              "      <th>Cabin</th>\n",
              "      <th>Embarked</th>\n",
              "    </tr>\n",
              "  </thead>\n",
              "  <tbody>\n",
              "    <tr>\n",
              "      <th>0</th>\n",
              "      <td>0</td>\n",
              "      <td>3</td>\n",
              "      <td>male</td>\n",
              "      <td>22.0</td>\n",
              "      <td>1</td>\n",
              "      <td>0</td>\n",
              "      <td>7.2500</td>\n",
              "      <td>NaN</td>\n",
              "      <td>S</td>\n",
              "    </tr>\n",
              "    <tr>\n",
              "      <th>1</th>\n",
              "      <td>1</td>\n",
              "      <td>1</td>\n",
              "      <td>female</td>\n",
              "      <td>38.0</td>\n",
              "      <td>1</td>\n",
              "      <td>0</td>\n",
              "      <td>71.2833</td>\n",
              "      <td>C85</td>\n",
              "      <td>C</td>\n",
              "    </tr>\n",
              "    <tr>\n",
              "      <th>2</th>\n",
              "      <td>1</td>\n",
              "      <td>3</td>\n",
              "      <td>female</td>\n",
              "      <td>26.0</td>\n",
              "      <td>0</td>\n",
              "      <td>0</td>\n",
              "      <td>7.9250</td>\n",
              "      <td>NaN</td>\n",
              "      <td>S</td>\n",
              "    </tr>\n",
              "    <tr>\n",
              "      <th>3</th>\n",
              "      <td>1</td>\n",
              "      <td>1</td>\n",
              "      <td>female</td>\n",
              "      <td>35.0</td>\n",
              "      <td>1</td>\n",
              "      <td>0</td>\n",
              "      <td>53.1000</td>\n",
              "      <td>C123</td>\n",
              "      <td>S</td>\n",
              "    </tr>\n",
              "    <tr>\n",
              "      <th>4</th>\n",
              "      <td>0</td>\n",
              "      <td>3</td>\n",
              "      <td>male</td>\n",
              "      <td>35.0</td>\n",
              "      <td>0</td>\n",
              "      <td>0</td>\n",
              "      <td>8.0500</td>\n",
              "      <td>NaN</td>\n",
              "      <td>S</td>\n",
              "    </tr>\n",
              "  </tbody>\n",
              "</table>\n",
              "</div>"
            ],
            "text/plain": [
              "   Survived  Pclass     Sex   Age  SibSp  Parch     Fare Cabin Embarked\n",
              "0         0       3    male  22.0      1      0   7.2500   NaN        S\n",
              "1         1       1  female  38.0      1      0  71.2833   C85        C\n",
              "2         1       3  female  26.0      0      0   7.9250   NaN        S\n",
              "3         1       1  female  35.0      1      0  53.1000  C123        S\n",
              "4         0       3    male  35.0      0      0   8.0500   NaN        S"
            ]
          },
          "metadata": {
            "tags": []
          },
          "execution_count": 2
        }
      ]
    },
    {
      "cell_type": "code",
      "metadata": {
        "id": "HNr48ScxlptJ",
        "outputId": "16f4fc58-a547-4dc4-8c52-b9d6f6f59fcd",
        "colab": {
          "base_uri": "https://localhost:8080/",
          "height": 187
        }
      },
      "source": [
        "data.isna().sum()"
      ],
      "execution_count": 3,
      "outputs": [
        {
          "output_type": "execute_result",
          "data": {
            "text/plain": [
              "Survived      0\n",
              "Pclass        0\n",
              "Sex           0\n",
              "Age         177\n",
              "SibSp         0\n",
              "Parch         0\n",
              "Fare          0\n",
              "Cabin       687\n",
              "Embarked      2\n",
              "dtype: int64"
            ]
          },
          "metadata": {
            "tags": []
          },
          "execution_count": 3
        }
      ]
    },
    {
      "cell_type": "code",
      "metadata": {
        "id": "xRTAvUG8lptN"
      },
      "source": [
        "data[['C', 'Q', 'S']] = pd.get_dummies(data.Embarked, dummy_na=False)\n",
        "data['miss_cabin'] = data.Cabin.isna().astype(int)\n",
        "data['miss_age'] = data.Age.isna().astype(int)\n",
        "data['Sex'] = [int(i == 'Male') for i in data.Sex.values]\n",
        "data.Age.fillna(-1, inplace=True)"
      ],
      "execution_count": 4,
      "outputs": []
    },
    {
      "cell_type": "code",
      "metadata": {
        "id": "a0e_e22JlptR"
      },
      "source": [
        "data.drop(['Cabin', 'Embarked'], axis=1, inplace=True)"
      ],
      "execution_count": 5,
      "outputs": []
    },
    {
      "cell_type": "code",
      "metadata": {
        "id": "4BWNvs_GlptU",
        "outputId": "e19727e1-eb30-465f-da13-fe56971ce28a",
        "colab": {
          "base_uri": "https://localhost:8080/",
          "height": 238
        }
      },
      "source": [
        "data.isna().sum()"
      ],
      "execution_count": 6,
      "outputs": [
        {
          "output_type": "execute_result",
          "data": {
            "text/plain": [
              "Survived      0\n",
              "Pclass        0\n",
              "Sex           0\n",
              "Age           0\n",
              "SibSp         0\n",
              "Parch         0\n",
              "Fare          0\n",
              "C             0\n",
              "Q             0\n",
              "S             0\n",
              "miss_cabin    0\n",
              "miss_age      0\n",
              "dtype: int64"
            ]
          },
          "metadata": {
            "tags": []
          },
          "execution_count": 6
        }
      ]
    },
    {
      "cell_type": "code",
      "metadata": {
        "id": "ildCzwbSlptY"
      },
      "source": [
        "y = data.pop('Survived')"
      ],
      "execution_count": 7,
      "outputs": []
    },
    {
      "cell_type": "code",
      "metadata": {
        "id": "O30_xKqjlptc",
        "outputId": "f8f44854-4336-4fd6-8ead-055ae51ae8fd",
        "colab": {
          "base_uri": "https://localhost:8080/",
          "height": 204
        }
      },
      "source": [
        "data.head()"
      ],
      "execution_count": 8,
      "outputs": [
        {
          "output_type": "execute_result",
          "data": {
            "text/html": [
              "<div>\n",
              "<style scoped>\n",
              "    .dataframe tbody tr th:only-of-type {\n",
              "        vertical-align: middle;\n",
              "    }\n",
              "\n",
              "    .dataframe tbody tr th {\n",
              "        vertical-align: top;\n",
              "    }\n",
              "\n",
              "    .dataframe thead th {\n",
              "        text-align: right;\n",
              "    }\n",
              "</style>\n",
              "<table border=\"1\" class=\"dataframe\">\n",
              "  <thead>\n",
              "    <tr style=\"text-align: right;\">\n",
              "      <th></th>\n",
              "      <th>Pclass</th>\n",
              "      <th>Sex</th>\n",
              "      <th>Age</th>\n",
              "      <th>SibSp</th>\n",
              "      <th>Parch</th>\n",
              "      <th>Fare</th>\n",
              "      <th>C</th>\n",
              "      <th>Q</th>\n",
              "      <th>S</th>\n",
              "      <th>miss_cabin</th>\n",
              "      <th>miss_age</th>\n",
              "    </tr>\n",
              "  </thead>\n",
              "  <tbody>\n",
              "    <tr>\n",
              "      <th>0</th>\n",
              "      <td>3</td>\n",
              "      <td>0</td>\n",
              "      <td>22.0</td>\n",
              "      <td>1</td>\n",
              "      <td>0</td>\n",
              "      <td>7.2500</td>\n",
              "      <td>0</td>\n",
              "      <td>0</td>\n",
              "      <td>1</td>\n",
              "      <td>1</td>\n",
              "      <td>0</td>\n",
              "    </tr>\n",
              "    <tr>\n",
              "      <th>1</th>\n",
              "      <td>1</td>\n",
              "      <td>0</td>\n",
              "      <td>38.0</td>\n",
              "      <td>1</td>\n",
              "      <td>0</td>\n",
              "      <td>71.2833</td>\n",
              "      <td>1</td>\n",
              "      <td>0</td>\n",
              "      <td>0</td>\n",
              "      <td>0</td>\n",
              "      <td>0</td>\n",
              "    </tr>\n",
              "    <tr>\n",
              "      <th>2</th>\n",
              "      <td>3</td>\n",
              "      <td>0</td>\n",
              "      <td>26.0</td>\n",
              "      <td>0</td>\n",
              "      <td>0</td>\n",
              "      <td>7.9250</td>\n",
              "      <td>0</td>\n",
              "      <td>0</td>\n",
              "      <td>1</td>\n",
              "      <td>1</td>\n",
              "      <td>0</td>\n",
              "    </tr>\n",
              "    <tr>\n",
              "      <th>3</th>\n",
              "      <td>1</td>\n",
              "      <td>0</td>\n",
              "      <td>35.0</td>\n",
              "      <td>1</td>\n",
              "      <td>0</td>\n",
              "      <td>53.1000</td>\n",
              "      <td>0</td>\n",
              "      <td>0</td>\n",
              "      <td>1</td>\n",
              "      <td>0</td>\n",
              "      <td>0</td>\n",
              "    </tr>\n",
              "    <tr>\n",
              "      <th>4</th>\n",
              "      <td>3</td>\n",
              "      <td>0</td>\n",
              "      <td>35.0</td>\n",
              "      <td>0</td>\n",
              "      <td>0</td>\n",
              "      <td>8.0500</td>\n",
              "      <td>0</td>\n",
              "      <td>0</td>\n",
              "      <td>1</td>\n",
              "      <td>1</td>\n",
              "      <td>0</td>\n",
              "    </tr>\n",
              "  </tbody>\n",
              "</table>\n",
              "</div>"
            ],
            "text/plain": [
              "   Pclass  Sex   Age  SibSp  Parch     Fare  C  Q  S  miss_cabin  miss_age\n",
              "0       3    0  22.0      1      0   7.2500  0  0  1           1         0\n",
              "1       1    0  38.0      1      0  71.2833  1  0  0           0         0\n",
              "2       3    0  26.0      0      0   7.9250  0  0  1           1         0\n",
              "3       1    0  35.0      1      0  53.1000  0  0  1           0         0\n",
              "4       3    0  35.0      0      0   8.0500  0  0  1           1         0"
            ]
          },
          "metadata": {
            "tags": []
          },
          "execution_count": 8
        }
      ]
    },
    {
      "cell_type": "code",
      "metadata": {
        "id": "r8Op0RG7lptf"
      },
      "source": [
        "data['Age'] = (data.Age - data.Age.mean())/data.Age.std() \n",
        "data['Fare'] = (data.Fare - data.Fare.mean())/data.Fare.std() "
      ],
      "execution_count": 9,
      "outputs": []
    },
    {
      "cell_type": "markdown",
      "metadata": {
        "id": "bWbTdwuRlpti"
      },
      "source": [
        "# 1. Perceptron wiht Sklearn"
      ]
    },
    {
      "cell_type": "code",
      "metadata": {
        "id": "mvqzuWeKlptj"
      },
      "source": [
        "X_train, X_test, y_train, y_test = train_test_split(data, y, test_size=0.2, random_state=42)"
      ],
      "execution_count": 10,
      "outputs": []
    },
    {
      "cell_type": "code",
      "metadata": {
        "id": "_uBQDzBulptm"
      },
      "source": [
        "perc = Perceptron()\n",
        "perc.fit(X_train, y_train)\n",
        "preds = perc.decision_function(X_test)"
      ],
      "execution_count": 11,
      "outputs": []
    },
    {
      "cell_type": "markdown",
      "metadata": {
        "id": "IuCRQvjclptp"
      },
      "source": [
        "decision_function(X)\n",
        "Predict confidence scores for samples.  \n",
        "\n",
        "The confidence score for a sample is the signed distance of that sample to the hyperplane.\n",
        "\n",
        "### But for ROC we do not need probabilities, simply sorting the predictions by certainty is enough!"
      ]
    },
    {
      "cell_type": "code",
      "metadata": {
        "id": "tpiFMkNylptq"
      },
      "source": [
        "def plot_roc(y_score, y_true):\n",
        "    fpr, tpr, _ = roc_curve(y_score=y_score, y_true=y_true)\n",
        "    plt.figure(figsize=(8, 8))\n",
        "    plt.plot(fpr, tpr, label='AUC: ' + str(np.round(roc_auc_score(y_score=y_score, y_true=y_true), 3)))\n",
        "    plt.xlim(-0.05, 1.05)\n",
        "    plt.ylim(-0.05, 1.05)\n",
        "    plt.plot([-1, 2], [-1, 2], '--')\n",
        "    plt.legend(fontsize=15)\n",
        "    plt.show()"
      ],
      "execution_count": 12,
      "outputs": []
    },
    {
      "cell_type": "code",
      "metadata": {
        "id": "1hc6FTHqlptt",
        "outputId": "57b4007e-4967-4de9-b03f-20c72d6df308",
        "colab": {
          "base_uri": "https://localhost:8080/",
          "height": 483
        }
      },
      "source": [
        "plot_roc(preds, y_test)"
      ],
      "execution_count": 13,
      "outputs": [
        {
          "output_type": "display_data",
          "data": {
            "image/png": "[encoded data removed]",
            "text/plain": [
              "<Figure size 576x576 with 1 Axes>"
            ]
          },
          "metadata": {
            "tags": [],
            "needs_background": "light"
          }
        }
      ]
    },
    {
      "cell_type": "markdown",
      "metadata": {
        "id": "JgCScOkRlptw"
      },
      "source": [
        "# 2. Multilayer perceptron in sklearn"
      ]
    },
    {
      "cell_type": "code",
      "metadata": {
        "id": "aIoESMiFlptx",
        "outputId": "97b8c4b6-6868-4f74-e76e-465e8a01bde2",
        "colab": {
          "base_uri": "https://localhost:8080/",
          "height": 71
        }
      },
      "source": [
        "mlp = MLPClassifier()\n",
        "mlp.fit(X_train, y_train)\n",
        "MLPpreds = mlp.predict_proba(X_test)"
      ],
      "execution_count": 14,
      "outputs": [
        {
          "output_type": "stream",
          "text": [
            "/usr/local/lib/python3.6/dist-packages/sklearn/neural_network/_multilayer_perceptron.py:571: ConvergenceWarning: Stochastic Optimizer: Maximum iterations (200) reached and the optimization hasn't converged yet.\n",
            "  % self.max_iter, ConvergenceWarning)\n"
          ],
          "name": "stderr"
        }
      ]
    },
    {
      "cell_type": "code",
      "metadata": {
        "id": "MwCmSr3qlpt2",
        "outputId": "c5c63f08-b922-41be-ab9c-8f95ae95d1db",
        "colab": {
          "base_uri": "https://localhost:8080/",
          "height": 483
        }
      },
      "source": [
        "plot_roc(MLPpreds[:,1], y_test)"
      ],
      "execution_count": 15,
      "outputs": [
        {
          "output_type": "display_data",
          "data": {
            "image/png": "[encoded data removed]",
            "text/plain": [
              "<Figure size 576x576 with 1 Axes>"
            ]
          },
          "metadata": {
            "tags": [],
            "needs_background": "light"
          }
        }
      ]
    },
    {
      "cell_type": "code",
      "metadata": {
        "id": "Nwqyw-6anl59",
        "outputId": "574ce9ed-aaa1-4acd-c516-4d1c57312a8a",
        "colab": {
          "base_uri": "https://localhost:8080/",
          "height": 153
        }
      },
      "source": [
        "mlp"
      ],
      "execution_count": 34,
      "outputs": [
        {
          "output_type": "execute_result",
          "data": {
            "text/plain": [
              "MLPClassifier(activation='relu', alpha=0.0001, batch_size='auto', beta_1=0.9,\n",
              "              beta_2=0.999, early_stopping=False, epsilon=1e-08,\n",
              "              hidden_layer_sizes=(100,), learning_rate='constant',\n",
              "              learning_rate_init=0.001, max_fun=15000, max_iter=200,\n",
              "              momentum=0.9, n_iter_no_change=10, nesterovs_momentum=True,\n",
              "              power_t=0.5, random_state=None, shuffle=True, solver='adam',\n",
              "              tol=0.0001, validation_fraction=0.1, verbose=False,\n",
              "              warm_start=False)"
            ]
          },
          "metadata": {
            "tags": []
          },
          "execution_count": 34
        }
      ]
    },
    {
      "cell_type": "markdown",
      "metadata": {
        "id": "mlnvDJtalpt5"
      },
      "source": [
        "https://scikit-learn.org/stable/modules/generated/sklearn.neural_network.MLPClassifier.html\n",
        "\n",
        "class sklearn.neural_network.MLPClassifier(hidden_layer_sizes=(100, ), activation='relu', *, solver='adam', alpha=0.0001, batch_size='auto', learning_rate='constant', learning_rate_init=0.001, power_t=0.5, max_iter=200, shuffle=True, random_state=None, tol=0.0001, verbose=False, warm_start=False, momentum=0.9, nesterovs_momentum=True, early_stopping=False, validation_fraction=0.1, beta_1=0.9, beta_2=0.999, epsilon=1e-08, n_iter_no_change=10, max_fun=15000)[source]"
      ]
    },
    {
      "cell_type": "markdown",
      "metadata": {
        "id": "CeOfUlc1lpt6"
      },
      "source": [
        "# 3. Similar in tensorflow/keras"
      ]
    },
    {
      "cell_type": "code",
      "metadata": {
        "id": "wUJXsgfClpt7"
      },
      "source": [
        "model = Sequential()\n",
        "model.add(Dense(100, activation='relu', input_dim=data.shape[1]))\n",
        "model.add(Dense(1, activation='sigmoid'))"
      ],
      "execution_count": 16,
      "outputs": []
    },
    {
      "cell_type": "code",
      "metadata": {
        "id": "GTu9n73Wlpt-"
      },
      "source": [
        "model.compile(optimizer=Adam(lr=1e-3, beta_1=0.9, beta_2=0.999, epsilon=1e-8), \n",
        "              metrics=['accuracy'], loss='binary_crossentropy')"
      ],
      "execution_count": 17,
      "outputs": []
    },
    {
      "cell_type": "code",
      "metadata": {
        "id": "bN0DxL2TlpuC",
        "outputId": "9d53bf85-8ef1-4c14-b76c-dfdcaa1d5220",
        "colab": {
          "base_uri": "https://localhost:8080/",
          "height": 34
        }
      },
      "source": [
        "len(data)/200"
      ],
      "execution_count": 18,
      "outputs": [
        {
          "output_type": "execute_result",
          "data": {
            "text/plain": [
              "4.455"
            ]
          },
          "metadata": {
            "tags": []
          },
          "execution_count": 18
        }
      ]
    },
    {
      "cell_type": "code",
      "metadata": {
        "id": "KANBfRW_lpuF",
        "outputId": "dae0d08e-8297-4d8c-8a11-256953949d98",
        "colab": {
          "base_uri": "https://localhost:8080/",
          "height": 34
        }
      },
      "source": [
        "4*50"
      ],
      "execution_count": 19,
      "outputs": [
        {
          "output_type": "execute_result",
          "data": {
            "text/plain": [
              "200"
            ]
          },
          "metadata": {
            "tags": []
          },
          "execution_count": 19
        }
      ]
    },
    {
      "cell_type": "code",
      "metadata": {
        "id": "JoablCR9lpuJ",
        "outputId": "f95114b1-a9b0-4c26-d8f7-d5a1f1601529",
        "colab": {
          "base_uri": "https://localhost:8080/",
          "height": 1000
        }
      },
      "source": [
        "history = model.fit(X_train.values, y_train.values, batch_size=200, epochs = 50, \n",
        "                    validation_data = (X_test.values, y_test.values))"
      ],
      "execution_count": 20,
      "outputs": [
        {
          "output_type": "stream",
          "text": [
            "Epoch 1/50\n",
            "4/4 [==============================] - 0s 34ms/step - loss: 0.6837 - accuracy: 0.5267 - val_loss: 0.6576 - val_accuracy: 0.6983\n",
            "Epoch 2/50\n",
            "4/4 [==============================] - 0s 6ms/step - loss: 0.6509 - accuracy: 0.6643 - val_loss: 0.6382 - val_accuracy: 0.6704\n",
            "Epoch 3/50\n",
            "4/4 [==============================] - 0s 5ms/step - loss: 0.6314 - accuracy: 0.6545 - val_loss: 0.6271 - val_accuracy: 0.6592\n",
            "Epoch 4/50\n",
            "4/4 [==============================] - 0s 5ms/step - loss: 0.6209 - accuracy: 0.6685 - val_loss: 0.6205 - val_accuracy: 0.6592\n",
            "Epoch 5/50\n",
            "4/4 [==============================] - 0s 5ms/step - loss: 0.6138 - accuracy: 0.6713 - val_loss: 0.6152 - val_accuracy: 0.6648\n",
            "Epoch 6/50\n",
            "4/4 [==============================] - 0s 6ms/step - loss: 0.6099 - accuracy: 0.6784 - val_loss: 0.6106 - val_accuracy: 0.6704\n",
            "Epoch 7/50\n",
            "4/4 [==============================] - 0s 6ms/step - loss: 0.6065 - accuracy: 0.6784 - val_loss: 0.6058 - val_accuracy: 0.6760\n",
            "Epoch 8/50\n",
            "4/4 [==============================] - 0s 6ms/step - loss: 0.6037 - accuracy: 0.6812 - val_loss: 0.6008 - val_accuracy: 0.6927\n",
            "Epoch 9/50\n",
            "4/4 [==============================] - 0s 7ms/step - loss: 0.5999 - accuracy: 0.6840 - val_loss: 0.5967 - val_accuracy: 0.7095\n",
            "Epoch 10/50\n",
            "4/4 [==============================] - 0s 7ms/step - loss: 0.5979 - accuracy: 0.6840 - val_loss: 0.5930 - val_accuracy: 0.7095\n",
            "Epoch 11/50\n",
            "4/4 [==============================] - 0s 6ms/step - loss: 0.5954 - accuracy: 0.6924 - val_loss: 0.5903 - val_accuracy: 0.7095\n",
            "Epoch 12/50\n",
            "4/4 [==============================] - 0s 6ms/step - loss: 0.5937 - accuracy: 0.6910 - val_loss: 0.5881 - val_accuracy: 0.6983\n",
            "Epoch 13/50\n",
            "4/4 [==============================] - 0s 6ms/step - loss: 0.5920 - accuracy: 0.6910 - val_loss: 0.5858 - val_accuracy: 0.6983\n",
            "Epoch 14/50\n",
            "4/4 [==============================] - 0s 6ms/step - loss: 0.5905 - accuracy: 0.6938 - val_loss: 0.5837 - val_accuracy: 0.6983\n",
            "Epoch 15/50\n",
            "4/4 [==============================] - 0s 6ms/step - loss: 0.5887 - accuracy: 0.6966 - val_loss: 0.5820 - val_accuracy: 0.7039\n",
            "Epoch 16/50\n",
            "4/4 [==============================] - 0s 6ms/step - loss: 0.5874 - accuracy: 0.6966 - val_loss: 0.5804 - val_accuracy: 0.7039\n",
            "Epoch 17/50\n",
            "4/4 [==============================] - 0s 6ms/step - loss: 0.5858 - accuracy: 0.6980 - val_loss: 0.5787 - val_accuracy: 0.7095\n",
            "Epoch 18/50\n",
            "4/4 [==============================] - 0s 6ms/step - loss: 0.5844 - accuracy: 0.6980 - val_loss: 0.5772 - val_accuracy: 0.7095\n",
            "Epoch 19/50\n",
            "4/4 [==============================] - 0s 6ms/step - loss: 0.5831 - accuracy: 0.6980 - val_loss: 0.5758 - val_accuracy: 0.7095\n",
            "Epoch 20/50\n",
            "4/4 [==============================] - 0s 5ms/step - loss: 0.5818 - accuracy: 0.7008 - val_loss: 0.5738 - val_accuracy: 0.7095\n",
            "Epoch 21/50\n",
            "4/4 [==============================] - 0s 6ms/step - loss: 0.5805 - accuracy: 0.6994 - val_loss: 0.5722 - val_accuracy: 0.7151\n",
            "Epoch 22/50\n",
            "4/4 [==============================] - 0s 5ms/step - loss: 0.5791 - accuracy: 0.7022 - val_loss: 0.5707 - val_accuracy: 0.7151\n",
            "Epoch 23/50\n",
            "4/4 [==============================] - 0s 5ms/step - loss: 0.5780 - accuracy: 0.7051 - val_loss: 0.5690 - val_accuracy: 0.7095\n",
            "Epoch 24/50\n",
            "4/4 [==============================] - 0s 5ms/step - loss: 0.5766 - accuracy: 0.7065 - val_loss: 0.5679 - val_accuracy: 0.7039\n",
            "Epoch 25/50\n",
            "4/4 [==============================] - 0s 5ms/step - loss: 0.5756 - accuracy: 0.7093 - val_loss: 0.5667 - val_accuracy: 0.7039\n",
            "Epoch 26/50\n",
            "4/4 [==============================] - 0s 5ms/step - loss: 0.5745 - accuracy: 0.7093 - val_loss: 0.5652 - val_accuracy: 0.7039\n",
            "Epoch 27/50\n",
            "4/4 [==============================] - 0s 5ms/step - loss: 0.5735 - accuracy: 0.7121 - val_loss: 0.5640 - val_accuracy: 0.7095\n",
            "Epoch 28/50\n",
            "4/4 [==============================] - 0s 5ms/step - loss: 0.5725 - accuracy: 0.7107 - val_loss: 0.5624 - val_accuracy: 0.7095\n",
            "Epoch 29/50\n",
            "4/4 [==============================] - 0s 5ms/step - loss: 0.5712 - accuracy: 0.7121 - val_loss: 0.5606 - val_accuracy: 0.7151\n",
            "Epoch 30/50\n",
            "4/4 [==============================] - 0s 6ms/step - loss: 0.5701 - accuracy: 0.7135 - val_loss: 0.5594 - val_accuracy: 0.7095\n",
            "Epoch 31/50\n",
            "4/4 [==============================] - 0s 5ms/step - loss: 0.5694 - accuracy: 0.7177 - val_loss: 0.5582 - val_accuracy: 0.7095\n",
            "Epoch 32/50\n",
            "4/4 [==============================] - 0s 6ms/step - loss: 0.5683 - accuracy: 0.7205 - val_loss: 0.5576 - val_accuracy: 0.7095\n",
            "Epoch 33/50\n",
            "4/4 [==============================] - 0s 6ms/step - loss: 0.5673 - accuracy: 0.7163 - val_loss: 0.5565 - val_accuracy: 0.7095\n",
            "Epoch 34/50\n",
            "4/4 [==============================] - 0s 6ms/step - loss: 0.5663 - accuracy: 0.7163 - val_loss: 0.5552 - val_accuracy: 0.7095\n",
            "Epoch 35/50\n",
            "4/4 [==============================] - 0s 6ms/step - loss: 0.5654 - accuracy: 0.7163 - val_loss: 0.5539 - val_accuracy: 0.7095\n",
            "Epoch 36/50\n",
            "4/4 [==============================] - 0s 6ms/step - loss: 0.5645 - accuracy: 0.7177 - val_loss: 0.5522 - val_accuracy: 0.7095\n",
            "Epoch 37/50\n",
            "4/4 [==============================] - 0s 6ms/step - loss: 0.5635 - accuracy: 0.7191 - val_loss: 0.5504 - val_accuracy: 0.7207\n",
            "Epoch 38/50\n",
            "4/4 [==============================] - 0s 6ms/step - loss: 0.5626 - accuracy: 0.7247 - val_loss: 0.5486 - val_accuracy: 0.7263\n",
            "Epoch 39/50\n",
            "4/4 [==============================] - 0s 6ms/step - loss: 0.5617 - accuracy: 0.7261 - val_loss: 0.5470 - val_accuracy: 0.7263\n",
            "Epoch 40/50\n",
            "4/4 [==============================] - 0s 6ms/step - loss: 0.5608 - accuracy: 0.7261 - val_loss: 0.5456 - val_accuracy: 0.7263\n",
            "Epoch 41/50\n",
            "4/4 [==============================] - 0s 7ms/step - loss: 0.5599 - accuracy: 0.7261 - val_loss: 0.5446 - val_accuracy: 0.7263\n",
            "Epoch 42/50\n",
            "4/4 [==============================] - 0s 6ms/step - loss: 0.5591 - accuracy: 0.7275 - val_loss: 0.5433 - val_accuracy: 0.7263\n",
            "Epoch 43/50\n",
            "4/4 [==============================] - 0s 6ms/step - loss: 0.5582 - accuracy: 0.7289 - val_loss: 0.5420 - val_accuracy: 0.7263\n",
            "Epoch 44/50\n",
            "4/4 [==============================] - 0s 6ms/step - loss: 0.5571 - accuracy: 0.7303 - val_loss: 0.5413 - val_accuracy: 0.7318\n",
            "Epoch 45/50\n",
            "4/4 [==============================] - 0s 5ms/step - loss: 0.5564 - accuracy: 0.7289 - val_loss: 0.5405 - val_accuracy: 0.7318\n",
            "Epoch 46/50\n",
            "4/4 [==============================] - 0s 5ms/step - loss: 0.5559 - accuracy: 0.7289 - val_loss: 0.5393 - val_accuracy: 0.7318\n",
            "Epoch 47/50\n",
            "4/4 [==============================] - 0s 5ms/step - loss: 0.5548 - accuracy: 0.7331 - val_loss: 0.5383 - val_accuracy: 0.7151\n",
            "Epoch 48/50\n",
            "4/4 [==============================] - 0s 5ms/step - loss: 0.5543 - accuracy: 0.7374 - val_loss: 0.5377 - val_accuracy: 0.7263\n",
            "Epoch 49/50\n",
            "4/4 [==============================] - 0s 5ms/step - loss: 0.5538 - accuracy: 0.7360 - val_loss: 0.5373 - val_accuracy: 0.7263\n",
            "Epoch 50/50\n",
            "4/4 [==============================] - 0s 5ms/step - loss: 0.5531 - accuracy: 0.7360 - val_loss: 0.5366 - val_accuracy: 0.7263\n"
          ],
          "name": "stdout"
        }
      ]
    },
    {
      "cell_type": "code",
      "metadata": {
        "id": "smKA-ADUlpuM",
        "outputId": "e1261d7e-d4a1-4a66-ffb2-1752d59cb0ac",
        "colab": {
          "base_uri": "https://localhost:8080/",
          "height": 483
        }
      },
      "source": [
        "tf_preds = model.predict(X_test.values)\n",
        "plot_roc(tf_preds, y_test)"
      ],
      "execution_count": 21,
      "outputs": [
        {
          "output_type": "display_data",
          "data": {
            "image/png": "[encoded data removed]",
            "text/plain": [
              "<Figure size 576x576 with 1 Axes>"
            ]
          },
          "metadata": {
            "tags": [],
            "needs_background": "light"
          }
        }
      ]
    },
    {
      "cell_type": "markdown",
      "metadata": {
        "id": "0CEu4w0blpuP"
      },
      "source": [
        "# 4. MNIST"
      ]
    },
    {
      "cell_type": "code",
      "metadata": {
        "id": "_nrZ5gg5lpuP",
        "outputId": "b61ea051-cc21-493a-871d-d9ae088c5db6",
        "colab": {
          "base_uri": "https://localhost:8080/",
          "height": 51
        }
      },
      "source": [
        "(x_train, y_train), (x_test, y_test) = mnist.load_data()\n",
        "x_train = x_train.reshape(60000, 28*28)/255\n",
        "x_test = x_test.reshape(10000, 28*28)/255\n",
        "\n",
        "y_train_oh = to_categorical(y_train)\n",
        "y_test_oh = to_categorical(y_test)"
      ],
      "execution_count": 22,
      "outputs": [
        {
          "output_type": "stream",
          "text": [
            "Downloading data from https://storage.googleapis.com/tensorflow/tf-keras-datasets/mnist.npz\n",
            "11493376/11490434 [==============================] - 0s 0us/step\n"
          ],
          "name": "stdout"
        }
      ]
    },
    {
      "cell_type": "code",
      "metadata": {
        "id": "XAkqVFkylpuS",
        "outputId": "93dec922-c0e2-4d3f-ad04-eeba3334ab39",
        "colab": {
          "base_uri": "https://localhost:8080/",
          "height": 51
        }
      },
      "source": [
        "%%time\n",
        "rf = RandomForestClassifier(n_estimators=100, random_state=42)\n",
        "rf.fit(x_train, y_train_oh)\n",
        "rf_preds = rf.predict(x_test)"
      ],
      "execution_count": 23,
      "outputs": [
        {
          "output_type": "stream",
          "text": [
            "CPU times: user 1min 2s, sys: 220 ms, total: 1min 2s\n",
            "Wall time: 1min 2s\n"
          ],
          "name": "stdout"
        }
      ]
    },
    {
      "cell_type": "code",
      "metadata": {
        "id": "s4E2urcjlpuV",
        "outputId": "f5d15c67-6a37-4511-8e16-f1c67f00ab88",
        "colab": {
          "base_uri": "https://localhost:8080/",
          "height": 34
        }
      },
      "source": [
        "(rf_preds.argmax(1) == y_test).mean()"
      ],
      "execution_count": 24,
      "outputs": [
        {
          "output_type": "execute_result",
          "data": {
            "text/plain": [
              "0.9062"
            ]
          },
          "metadata": {
            "tags": []
          },
          "execution_count": 24
        }
      ]
    },
    {
      "cell_type": "code",
      "metadata": {
        "id": "ConmJLWIlpuY",
        "outputId": "e40e857e-ecfd-4daa-87f4-f230784b6b9e",
        "colab": {
          "base_uri": "https://localhost:8080/",
          "height": 544
        }
      },
      "source": [
        "model = Sequential()\n",
        "model.add(Dense(784, activation='relu', input_dim=784))\n",
        "model.add(Dense(784, activation='relu'))\n",
        "model.add(Dense(784, activation='relu'))\n",
        "model.add(Dense(10, activation='softmax'))\n",
        "model.compile(loss='categorical_crossentropy', optimizer=Adam(lr=1e-4), metrics=['accuracy'])\n",
        "model.fit(x=x_train, y=y_train_oh, batch_size=256, epochs=15, validation_data=(x_test, y_test_oh))"
      ],
      "execution_count": 25,
      "outputs": [
        {
          "output_type": "stream",
          "text": [
            "Epoch 1/15\n",
            "235/235 [==============================] - 1s 5ms/step - loss: 0.5157 - accuracy: 0.8717 - val_loss: 0.2046 - val_accuracy: 0.9425\n",
            "Epoch 2/15\n",
            "235/235 [==============================] - 1s 4ms/step - loss: 0.1729 - accuracy: 0.9500 - val_loss: 0.1431 - val_accuracy: 0.9594\n",
            "Epoch 3/15\n",
            "235/235 [==============================] - 1s 4ms/step - loss: 0.1210 - accuracy: 0.9651 - val_loss: 0.1114 - val_accuracy: 0.9678\n",
            "Epoch 4/15\n",
            "235/235 [==============================] - 1s 4ms/step - loss: 0.0921 - accuracy: 0.9736 - val_loss: 0.0981 - val_accuracy: 0.9686\n",
            "Epoch 5/15\n",
            "235/235 [==============================] - 1s 4ms/step - loss: 0.0724 - accuracy: 0.9794 - val_loss: 0.0789 - val_accuracy: 0.9759\n",
            "Epoch 6/15\n",
            "235/235 [==============================] - 1s 4ms/step - loss: 0.0573 - accuracy: 0.9835 - val_loss: 0.0783 - val_accuracy: 0.9757\n",
            "Epoch 7/15\n",
            "235/235 [==============================] - 1s 4ms/step - loss: 0.0461 - accuracy: 0.9871 - val_loss: 0.0752 - val_accuracy: 0.9771\n",
            "Epoch 8/15\n",
            "235/235 [==============================] - 1s 4ms/step - loss: 0.0378 - accuracy: 0.9892 - val_loss: 0.0719 - val_accuracy: 0.9783\n",
            "Epoch 9/15\n",
            "235/235 [==============================] - 1s 4ms/step - loss: 0.0301 - accuracy: 0.9919 - val_loss: 0.0646 - val_accuracy: 0.9806\n",
            "Epoch 10/15\n",
            "235/235 [==============================] - 1s 4ms/step - loss: 0.0246 - accuracy: 0.9935 - val_loss: 0.0688 - val_accuracy: 0.9791\n",
            "Epoch 11/15\n",
            "235/235 [==============================] - 1s 4ms/step - loss: 0.0193 - accuracy: 0.9956 - val_loss: 0.0662 - val_accuracy: 0.9800\n",
            "Epoch 12/15\n",
            "235/235 [==============================] - 1s 4ms/step - loss: 0.0160 - accuracy: 0.9962 - val_loss: 0.0631 - val_accuracy: 0.9816\n",
            "Epoch 13/15\n",
            "235/235 [==============================] - 1s 4ms/step - loss: 0.0130 - accuracy: 0.9971 - val_loss: 0.0691 - val_accuracy: 0.9785\n",
            "Epoch 14/15\n",
            "235/235 [==============================] - 1s 4ms/step - loss: 0.0100 - accuracy: 0.9981 - val_loss: 0.0667 - val_accuracy: 0.9808\n",
            "Epoch 15/15\n",
            "235/235 [==============================] - 1s 4ms/step - loss: 0.0074 - accuracy: 0.9988 - val_loss: 0.0656 - val_accuracy: 0.9811\n"
          ],
          "name": "stdout"
        },
        {
          "output_type": "execute_result",
          "data": {
            "text/plain": [
              "<tensorflow.python.keras.callbacks.History at 0x7fc44247e710>"
            ]
          },
          "metadata": {
            "tags": []
          },
          "execution_count": 25
        }
      ]
    },
    {
      "cell_type": "markdown",
      "metadata": {
        "id": "43IGtE73lpub"
      },
      "source": [
        "# SGD small learning rate"
      ]
    },
    {
      "cell_type": "code",
      "metadata": {
        "id": "gYcMnHeolpuc",
        "outputId": "b57423e4-b974-4d0c-f4e8-af233a60c86f",
        "colab": {
          "base_uri": "https://localhost:8080/",
          "height": 544
        }
      },
      "source": [
        "model = Sequential()\n",
        "model.add(Dense(784, activation='relu', input_dim=784))\n",
        "model.add(Dense(784, activation='relu'))\n",
        "model.add(Dense(784, activation='relu'))\n",
        "model.add(Dense(10, activation='softmax'))\n",
        "model.compile(loss='categorical_crossentropy', optimizer=SGD(lr=5*1e-4), metrics=['accuracy'])\n",
        "model.fit(x=x_train, y=y_train_oh, batch_size=256, epochs=15, validation_data=(x_test, y_test_oh))"
      ],
      "execution_count": 26,
      "outputs": [
        {
          "output_type": "stream",
          "text": [
            "Epoch 1/15\n",
            "235/235 [==============================] - 1s 4ms/step - loss: 2.2790 - accuracy: 0.1529 - val_loss: 2.2443 - val_accuracy: 0.2478\n",
            "Epoch 2/15\n",
            "235/235 [==============================] - 1s 4ms/step - loss: 2.2133 - accuracy: 0.3379 - val_loss: 2.1786 - val_accuracy: 0.4346\n",
            "Epoch 3/15\n",
            "235/235 [==============================] - 1s 4ms/step - loss: 2.1493 - accuracy: 0.4913 - val_loss: 2.1125 - val_accuracy: 0.5607\n",
            "Epoch 4/15\n",
            "235/235 [==============================] - 1s 4ms/step - loss: 2.0834 - accuracy: 0.5912 - val_loss: 2.0434 - val_accuracy: 0.6334\n",
            "Epoch 5/15\n",
            "235/235 [==============================] - 1s 4ms/step - loss: 2.0138 - accuracy: 0.6515 - val_loss: 1.9696 - val_accuracy: 0.6800\n",
            "Epoch 6/15\n",
            "235/235 [==============================] - 1s 4ms/step - loss: 1.9393 - accuracy: 0.6880 - val_loss: 1.8905 - val_accuracy: 0.7107\n",
            "Epoch 7/15\n",
            "235/235 [==============================] - 1s 4ms/step - loss: 1.8593 - accuracy: 0.7137 - val_loss: 1.8057 - val_accuracy: 0.7299\n",
            "Epoch 8/15\n",
            "235/235 [==============================] - 1s 4ms/step - loss: 1.7739 - accuracy: 0.7322 - val_loss: 1.7157 - val_accuracy: 0.7461\n",
            "Epoch 9/15\n",
            "235/235 [==============================] - 1s 4ms/step - loss: 1.6839 - accuracy: 0.7461 - val_loss: 1.6217 - val_accuracy: 0.7596\n",
            "Epoch 10/15\n",
            "235/235 [==============================] - 1s 4ms/step - loss: 1.5907 - accuracy: 0.7563 - val_loss: 1.5256 - val_accuracy: 0.7732\n",
            "Epoch 11/15\n",
            "235/235 [==============================] - 1s 4ms/step - loss: 1.4963 - accuracy: 0.7669 - val_loss: 1.4294 - val_accuracy: 0.7832\n",
            "Epoch 12/15\n",
            "235/235 [==============================] - 1s 4ms/step - loss: 1.4029 - accuracy: 0.7767 - val_loss: 1.3356 - val_accuracy: 0.7930\n",
            "Epoch 13/15\n",
            "235/235 [==============================] - 1s 4ms/step - loss: 1.3124 - accuracy: 0.7853 - val_loss: 1.2460 - val_accuracy: 0.8004\n",
            "Epoch 14/15\n",
            "235/235 [==============================] - 1s 4ms/step - loss: 1.2267 - accuracy: 0.7936 - val_loss: 1.1623 - val_accuracy: 0.8076\n",
            "Epoch 15/15\n",
            "235/235 [==============================] - 1s 4ms/step - loss: 1.1471 - accuracy: 0.8021 - val_loss: 1.0854 - val_accuracy: 0.8136\n"
          ],
          "name": "stdout"
        },
        {
          "output_type": "execute_result",
          "data": {
            "text/plain": [
              "<tensorflow.python.keras.callbacks.History at 0x7fc4422afc18>"
            ]
          },
          "metadata": {
            "tags": []
          },
          "execution_count": 26
        }
      ]
    },
    {
      "cell_type": "markdown",
      "metadata": {
        "id": "8rkn4PuFlpuf"
      },
      "source": [
        "# SGD too large learning rate"
      ]
    },
    {
      "cell_type": "code",
      "metadata": {
        "id": "3dUkzDpXlpuf",
        "outputId": "038f6c52-8cf6-470e-af80-ad5f205a9a25",
        "colab": {
          "base_uri": "https://localhost:8080/",
          "height": 544
        }
      },
      "source": [
        "model = Sequential()\n",
        "model.add(Dense(784, activation='relu', input_dim=784))\n",
        "model.add(Dense(784, activation='relu'))\n",
        "model.add(Dense(784, activation='relu'))\n",
        "model.add(Dense(10, activation='softmax'))\n",
        "model.compile(loss='categorical_crossentropy', optimizer=SGD(lr=2), metrics=['accuracy'])\n",
        "model.fit(x=x_train, y=y_train_oh, batch_size=256, epochs=15, validation_data=(x_test, y_test_oh))"
      ],
      "execution_count": 27,
      "outputs": [
        {
          "output_type": "stream",
          "text": [
            "Epoch 1/15\n",
            "235/235 [==============================] - 1s 4ms/step - loss: nan - accuracy: 0.0997 - val_loss: nan - val_accuracy: 0.0980\n",
            "Epoch 2/15\n",
            "235/235 [==============================] - 1s 4ms/step - loss: nan - accuracy: 0.0987 - val_loss: nan - val_accuracy: 0.0980\n",
            "Epoch 3/15\n",
            "235/235 [==============================] - 1s 4ms/step - loss: nan - accuracy: 0.0987 - val_loss: nan - val_accuracy: 0.0980\n",
            "Epoch 4/15\n",
            "235/235 [==============================] - 1s 4ms/step - loss: nan - accuracy: 0.0987 - val_loss: nan - val_accuracy: 0.0980\n",
            "Epoch 5/15\n",
            "235/235 [==============================] - 1s 4ms/step - loss: nan - accuracy: 0.0987 - val_loss: nan - val_accuracy: 0.0980\n",
            "Epoch 6/15\n",
            "235/235 [==============================] - 1s 4ms/step - loss: nan - accuracy: 0.0987 - val_loss: nan - val_accuracy: 0.0980\n",
            "Epoch 7/15\n",
            "235/235 [==============================] - 1s 4ms/step - loss: nan - accuracy: 0.0987 - val_loss: nan - val_accuracy: 0.0980\n",
            "Epoch 8/15\n",
            "235/235 [==============================] - 1s 4ms/step - loss: nan - accuracy: 0.0987 - val_loss: nan - val_accuracy: 0.0980\n",
            "Epoch 9/15\n",
            "235/235 [==============================] - 1s 4ms/step - loss: nan - accuracy: 0.0987 - val_loss: nan - val_accuracy: 0.0980\n",
            "Epoch 10/15\n",
            "235/235 [==============================] - 1s 4ms/step - loss: nan - accuracy: 0.0987 - val_loss: nan - val_accuracy: 0.0980\n",
            "Epoch 11/15\n",
            "235/235 [==============================] - 1s 4ms/step - loss: nan - accuracy: 0.0987 - val_loss: nan - val_accuracy: 0.0980\n",
            "Epoch 12/15\n",
            "235/235 [==============================] - 1s 4ms/step - loss: nan - accuracy: 0.0987 - val_loss: nan - val_accuracy: 0.0980\n",
            "Epoch 13/15\n",
            "235/235 [==============================] - 1s 4ms/step - loss: nan - accuracy: 0.0987 - val_loss: nan - val_accuracy: 0.0980\n",
            "Epoch 14/15\n",
            "235/235 [==============================] - 1s 4ms/step - loss: nan - accuracy: 0.0987 - val_loss: nan - val_accuracy: 0.0980\n",
            "Epoch 15/15\n",
            "235/235 [==============================] - 1s 4ms/step - loss: nan - accuracy: 0.0987 - val_loss: nan - val_accuracy: 0.0980\n"
          ],
          "name": "stdout"
        },
        {
          "output_type": "execute_result",
          "data": {
            "text/plain": [
              "<tensorflow.python.keras.callbacks.History at 0x7fc4421dca20>"
            ]
          },
          "metadata": {
            "tags": []
          },
          "execution_count": 27
        }
      ]
    },
    {
      "cell_type": "code",
      "metadata": {
        "id": "D4KjdP7Qlpui",
        "outputId": "686ac26b-45cf-4a32-cd85-2577be76f885",
        "colab": {
          "base_uri": "https://localhost:8080/",
          "height": 34
        }
      },
      "source": [
        "model.weights[-1]"
      ],
      "execution_count": 28,
      "outputs": [
        {
          "output_type": "execute_result",
          "data": {
            "text/plain": [
              "<tf.Variable 'dense_13/bias:0' shape=(10,) dtype=float32, numpy=array([nan, nan, nan, nan, nan, nan, nan, nan, nan, nan], dtype=float32)>"
            ]
          },
          "metadata": {
            "tags": []
          },
          "execution_count": 28
        }
      ]
    },
    {
      "cell_type": "code",
      "metadata": {
        "id": "MvqZL_m7lpul",
        "outputId": "e04b69b9-da07-444c-ce77-16697e111e8b",
        "colab": {
          "base_uri": "https://localhost:8080/",
          "height": 255
        }
      },
      "source": [
        "model.weights[0]"
      ],
      "execution_count": 29,
      "outputs": [
        {
          "output_type": "execute_result",
          "data": {
            "text/plain": [
              "<tf.Variable 'dense_10/kernel:0' shape=(784, 784) dtype=float32, numpy=\n",
              "array([[        nan,  0.01881481, -0.01887582, ...,         nan,\n",
              "         0.04493736,  0.01802251],\n",
              "       [        nan,  0.0415997 , -0.02803978, ...,         nan,\n",
              "         0.0340055 ,  0.00604189],\n",
              "       [        nan,  0.05375856, -0.04891065, ...,         nan,\n",
              "        -0.01477888, -0.02304473],\n",
              "       ...,\n",
              "       [        nan, -0.06115225, -0.00456145, ...,         nan,\n",
              "        -0.04773515, -0.02783428],\n",
              "       [        nan, -0.03128678, -0.05959795, ...,         nan,\n",
              "         0.01051067, -0.02181698],\n",
              "       [        nan,  0.00169967, -0.02093336, ...,         nan,\n",
              "        -0.04438247,  0.05233732]], dtype=float32)>"
            ]
          },
          "metadata": {
            "tags": []
          },
          "execution_count": 29
        }
      ]
    },
    {
      "cell_type": "markdown",
      "metadata": {
        "id": "Z8TV10rplpuo"
      },
      "source": [
        "# What if there is no scaling?"
      ]
    },
    {
      "cell_type": "code",
      "metadata": {
        "id": "rNi4QJNdlpup",
        "outputId": "c2c8a6fe-74f2-4202-f776-0ef9b3a6a15d",
        "colab": {
          "base_uri": "https://localhost:8080/",
          "height": 187
        }
      },
      "source": [
        "model = Sequential()\n",
        "model.add(Dense(784, activation='relu', input_dim=784))\n",
        "model.add(Dense(784, activation='relu'))\n",
        "model.add(Dense(784, activation='relu'))\n",
        "model.add(Dense(10, activation='softmax'))\n",
        "model.compile(loss='categorical_crossentropy', optimizer=SGD(lr=1e-1), metrics=['accuracy'])\n",
        "history = model.fit(x=x_train, y=y_train_oh, batch_size=256, epochs=5, validation_data=(x_test, y_test_oh))"
      ],
      "execution_count": 30,
      "outputs": [
        {
          "output_type": "stream",
          "text": [
            "Epoch 1/5\n",
            "235/235 [==============================] - 1s 4ms/step - loss: 0.5267 - accuracy: 0.8555 - val_loss: 0.5495 - val_accuracy: 0.8189\n",
            "Epoch 2/5\n",
            "235/235 [==============================] - 1s 4ms/step - loss: 0.2219 - accuracy: 0.9355 - val_loss: 0.1888 - val_accuracy: 0.9441\n",
            "Epoch 3/5\n",
            "235/235 [==============================] - 1s 4ms/step - loss: 0.1635 - accuracy: 0.9524 - val_loss: 0.1388 - val_accuracy: 0.9576\n",
            "Epoch 4/5\n",
            "235/235 [==============================] - 1s 4ms/step - loss: 0.1295 - accuracy: 0.9624 - val_loss: 0.1456 - val_accuracy: 0.9557\n",
            "Epoch 5/5\n",
            "235/235 [==============================] - 1s 4ms/step - loss: 0.1065 - accuracy: 0.9689 - val_loss: 0.1178 - val_accuracy: 0.9622\n"
          ],
          "name": "stdout"
        }
      ]
    },
    {
      "cell_type": "markdown",
      "metadata": {
        "id": "FYuLDW8Slpus"
      },
      "source": [
        "# Overfitting"
      ]
    },
    {
      "cell_type": "code",
      "metadata": {
        "id": "KT7p4OTKlpus",
        "outputId": "c2d20366-ea43-4264-b3bf-f0cb32a808c8",
        "colab": {
          "base_uri": "https://localhost:8080/",
          "height": 204
        }
      },
      "source": [
        "model = Sequential()\n",
        "model.add(Dense(784, activation='relu', input_dim=784))\n",
        "model.add(Dense(784, activation='relu'))\n",
        "model.add(Dense(784, activation='relu'))\n",
        "model.add(Dense(10, activation='softmax'))\n",
        "model.compile(loss='categorical_crossentropy', optimizer=SGD(lr=1e-1), metrics=['accuracy'])\n",
        "model.fit(x=x_train*255, y=y_train_oh, batch_size=256, epochs=5, validation_data=(x_test*255, y_test_oh))"
      ],
      "execution_count": 31,
      "outputs": [
        {
          "output_type": "stream",
          "text": [
            "Epoch 1/5\n",
            "235/235 [==============================] - 1s 4ms/step - loss: nan - accuracy: 0.0988 - val_loss: nan - val_accuracy: 0.0980\n",
            "Epoch 2/5\n",
            "235/235 [==============================] - 1s 4ms/step - loss: nan - accuracy: 0.0987 - val_loss: nan - val_accuracy: 0.0980\n",
            "Epoch 3/5\n",
            "235/235 [==============================] - 1s 4ms/step - loss: nan - accuracy: 0.0987 - val_loss: nan - val_accuracy: 0.0980\n",
            "Epoch 4/5\n",
            "235/235 [==============================] - 1s 4ms/step - loss: nan - accuracy: 0.0987 - val_loss: nan - val_accuracy: 0.0980\n",
            "Epoch 5/5\n",
            "235/235 [==============================] - 1s 4ms/step - loss: nan - accuracy: 0.0987 - val_loss: nan - val_accuracy: 0.0980\n"
          ],
          "name": "stdout"
        },
        {
          "output_type": "execute_result",
          "data": {
            "text/plain": [
              "<tensorflow.python.keras.callbacks.History at 0x7fc43273a240>"
            ]
          },
          "metadata": {
            "tags": []
          },
          "execution_count": 31
        }
      ]
    },
    {
      "cell_type": "markdown",
      "metadata": {
        "id": "e0oB2Br_lpuv"
      },
      "source": [
        "# Is it overfitting? "
      ]
    },
    {
      "cell_type": "code",
      "metadata": {
        "id": "cV1Wn3IBlpuv"
      },
      "source": [
        "model = Sequential()\n",
        "model.add(Dense(1096, activation='relu', input_dim=784))\n",
        "model.add(Dense(1096, activation='relu'))\n",
        "model.add(Dense(1096, activation='relu'))\n",
        "model.add(Dense(10, activation='softmax'))\n",
        "model.compile(loss='categorical_crossentropy', optimizer=SGD(lr=1e-2), metrics=['accuracy'])\n",
        "history = model.fit(x=x_train[:256], y=y_train_oh[:256], \n",
        "                     batch_size=16, epochs=50, validation_data=(x_test[:256], y_test_oh[:256]), verbose=0)"
      ],
      "execution_count": 32,
      "outputs": []
    },
    {
      "cell_type": "code",
      "metadata": {
        "id": "dRKE1bAXlpuy",
        "outputId": "43f84f8d-e9d2-43bf-b479-a3d8555c17b4",
        "colab": {
          "base_uri": "https://localhost:8080/",
          "height": 393
        }
      },
      "source": [
        "plt.figure(figsize=(12, 6))\n",
        "plt.plot(history.history['val_accuracy'], label='validation')\n",
        "plt.plot(history.history['accuracy'], label='train')\n",
        "plt.xlabel('#epochs', fontsize=15)\n",
        "plt.ylabel('accuracy', fontsize=15)\n",
        "plt.legend(fontsize=15)\n",
        "plt.show()"
      ],
      "execution_count": 33,
      "outputs": [
        {
          "output_type": "display_data",
          "data": {
            "image/png": "[encoded data removed]",
            "text/plain": [
              "<Figure size 864x432 with 1 Axes>"
            ]
          },
          "metadata": {
            "tags": [],
            "needs_background": "light"
          }
        }
      ]
    },
    {
      "cell_type": "markdown",
      "metadata": {
        "id": "FWHZcXs4nTFf"
      },
      "source": [
        "# Recipe for training NN's by Karpathy\n",
        "\n",
        "http://karpathy.github.io/2019/04/25/recipe/"
      ]
    }
  ]
}